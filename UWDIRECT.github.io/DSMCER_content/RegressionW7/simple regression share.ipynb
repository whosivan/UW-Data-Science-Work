{
 "cells": [
  {
   "cell_type": "markdown",
   "metadata": {},
   "source": [
    "##  Part 1 simple linear regression\n",
    "### To do\n",
    "\n",
    "* Explain w/partner each line in this notebook and execute each cell  \n",
    "* Explore relationship between quality of prediction and (size of training set / noise level)\n",
    "    * Specifically discuss how you would automate this searching\n",
    "\n",
    "### Discuss how you would implement the following calculations, with a function, as they are not available in sklearn (this is a big part of HW4!)\n",
    "\n",
    "### Missing information for assessing coefficients: \n",
    "\n",
    "* 95% CI \n",
    "* Standard Error for $\\beta_0$ and $\\beta _1$\n",
    "* P-value for test of $H_0$\n",
    "\n",
    "### Missing information for assessing the model: \n",
    "\n",
    "* RSE , RSS , $R^2$"
   ]
  },
  {
   "cell_type": "code",
   "execution_count": null,
   "metadata": {
    "collapsed": false
   },
   "outputs": [],
   "source": [
    "import numpy as np\n",
    "import matplotlib.pyplot as plt\n",
    "import pandas as pd \n",
    "\n",
    "from sklearn import linear_model\n",
    "%matplotlib inline"
   ]
  },
  {
   "cell_type": "code",
   "execution_count": null,
   "metadata": {
    "collapsed": true
   },
   "outputs": [],
   "source": [
    "#model: Y = 3X + 4\n",
    "#size of training data and scale of random noise \n",
    "pts=25 \n",
    "noisescale=.25 \n",
    "x=np.linspace(-50,50,num=pts)\n",
    "B0=4\n",
    "B1=3\n",
    "yactual=B0+B1*x\n",
    "#np.random.seed(123) for reproducible \n",
    "#add noise scaled to 25% of range to data\n",
    "yrand=yactual+noisescale*(yactual.max()-yactual.min())*np.random.normal(size=pts)"
   ]
  },
  {
   "cell_type": "code",
   "execution_count": null,
   "metadata": {
    "collapsed": false
   },
   "outputs": [],
   "source": [
    "plt.plot(x,yactual,color='red',lw='3')\n",
    "plt.scatter(x,yrand)"
   ]
  },
  {
   "cell_type": "code",
   "execution_count": null,
   "metadata": {
    "collapsed": false
   },
   "outputs": [],
   "source": [
    "#EXPLAIN IN PLAIN LANGUAGE WHAT THIS LINE IS DOING!\n",
    "regr=linear_model.LinearRegression() \n",
    "# note that x.reshape(-1,1) is required because I must strictly\n",
    "# feed regr.fit a 200x1 array , np.linspace returned a list of numbers\n",
    "regr.fit(x.reshape(-1,1),yrand)\n",
    "print('B0, B1: ',regr.intercept_, regr.coef_[0])"
   ]
  },
  {
   "cell_type": "code",
   "execution_count": null,
   "metadata": {
    "collapsed": false
   },
   "outputs": [],
   "source": [
    "plt.plot(x,yactual,color='red',lw='3',label='actual')\n",
    "plt.plot(x,regr.predict(x.reshape(-1,1)),ls='--',label='fit')\n",
    "plt.legend(loc='lower right')"
   ]
  },
  {
   "cell_type": "markdown",
   "metadata": {
    "collapsed": true
   },
   "source": [
    "### Take a few mins and see if you can \n",
    "\n",
    "Useful plots to make after simple linear regression: \n",
    "\n",
    "1) X vs Y (showing both training data, fit model, and result of predictionsw on test data (if you have any) \n",
    "\n",
    "2) Y vs Y(hat):  this is called a *parity plot* \n",
    "\n",
    "3) X v s *residual* (Y - Y(hat)) "
   ]
  },
  {
   "cell_type": "markdown",
   "metadata": {},
   "source": [
    "### Multiple linear regression\n",
    "\n",
    "In this 2nd example, we generate model based on the idea that the $PCE$ of a candidate organic photovoltaic can be modeled as a contribution of the molecule's $mass$, $VOC$ and $E_{LUMO}$ values:  $PCE = \\beta_0 + \\beta_1*mass + \\beta_2*VOC + \\beta_3 * E_{LUMO}$\n",
    "\n",
    "The extension from simple to multiple linear regression is trivial - can you figure it out with your partner or at your table?!"
   ]
  },
  {
   "cell_type": "code",
   "execution_count": null,
   "metadata": {
    "collapsed": true
   },
   "outputs": [],
   "source": [
    "# NOTE: This is Jim's path - you have to fix this! \n",
    "harvard=pd.read_csv('../Week1/HCEPD_100K.csv')\n",
    "# you need to complete these lines \n",
    "# (but first you might refresh yourself on what is contained in harvard\n",
    "\n",
    "# keep the same variable names - \n",
    "# regr2=STUFF\n",
    "# regr2.fit(STUFF) \n",
    "# once your model is trained, can you make a parity plot: plot actual PCE data on x vs\n",
    "# trained PCE data on y. Also plot the line of parity so your eye can follow how good\n",
    "# your predictions are doing...."
   ]
  },
  {
   "cell_type": "code",
   "execution_count": null,
   "metadata": {
    "collapsed": true
   },
   "outputs": [],
   "source": []
  }
 ],
 "metadata": {
  "anaconda-cloud": {},
  "kernelspec": {
   "display_name": "Python [conda root]",
   "language": "python",
   "name": "conda-root-py"
  },
  "language_info": {
   "codemirror_mode": {
    "name": "ipython",
    "version": 2
   },
   "file_extension": ".py",
   "mimetype": "text/x-python",
   "name": "python",
   "nbconvert_exporter": "python",
   "pygments_lexer": "ipython2",
   "version": "2.7.12"
  }
 },
 "nbformat": 4,
 "nbformat_minor": 1
}
