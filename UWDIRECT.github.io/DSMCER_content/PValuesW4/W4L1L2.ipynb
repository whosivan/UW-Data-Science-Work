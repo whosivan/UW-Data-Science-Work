{
 "cells": [
  {
   "cell_type": "code",
   "execution_count": 188,
   "metadata": {
    "collapsed": false
   },
   "outputs": [],
   "source": [
    "import numpy as np\n",
    "from scipy import stats\n",
    "import pandas as pd \n",
    "import matplotlib.pyplot as plt "
   ]
  },
  {
   "cell_type": "markdown",
   "metadata": {},
   "source": []
  },
  {
   "cell_type": "code",
   "execution_count": null,
   "metadata": {
    "collapsed": true
   },
   "outputs": [],
   "source": [
    "# Python recipe for performing the 1-sample t-test "
   ]
  },
  {
   "cell_type": "markdown",
   "metadata": {},
   "source": [
    "![dist](mydist.png)\n",
    "\n",
    "### Error bar represents standard deviation "
   ]
  },
  {
   "cell_type": "code",
   "execution_count": 190,
   "metadata": {
    "collapsed": false
   },
   "outputs": [
    {
     "name": "stdout",
     "output_type": "stream",
     "text": [
      "[ 12.81114783  12.8137603    6.80118985   9.47546101   8.6891657 ]\n",
      "10.1181449378\n",
      "2.64460876472\n",
      "1.18270499436\n"
     ]
    }
   ],
   "source": [
    "# we will draw numbers from a random normal distribution - set mean and standard deviation \n",
    "mymean=10 \n",
    "mystd=2.0 \n",
    "myN=5\n",
    "# if you want to draw the same random numbers or compare with a friend then \n",
    "# set the random number seed the same \n",
    "np.random.seed(666123)\n",
    "\n",
    "# make sure you understand all the arguments \n",
    "myrand=np.random.normal(loc=mymean,scale=mystd,size=myN)\n",
    "\n",
    "# just print out some basic descriptive stats \n",
    "print myrand\n",
    "print myrand.mean()\n",
    "print myrand.std(ddof=1)\n",
    "# this is the s.e.m. - showed formula in class \n",
    "print stats.sem(myrand,ddof=1)"
   ]
  },
  {
   "cell_type": "code",
   "execution_count": 114,
   "metadata": {
    "collapsed": false
   },
   "outputs": [
    {
     "name": "stdout",
     "output_type": "stream",
     "text": [
      "0.0998938351936\n"
     ]
    }
   ],
   "source": [
    "# here is the hand calculation for the t-score, based on our formula \n",
    "t=(myrand.mean()-mymean)/stats.sem(myrand)\n",
    "print t"
   ]
  },
  {
   "cell_type": "code",
   "execution_count": 115,
   "metadata": {
    "collapsed": false
   },
   "outputs": [
    {
     "data": {
      "text/plain": [
       "0.92523496958933249"
      ]
     },
     "execution_count": 115,
     "metadata": {},
     "output_type": "execute_result"
    }
   ],
   "source": [
    "# the function stats.t.sf is the lookup value - given a t-score it will\n",
    "# provide you the 1-sided p-value.  Feed the abs value of t-score and multiple by 2 \n",
    "# to obtain the standard 2-sided p-value! \n",
    "stats.t.sf(np.abs(t),myrand.size-1)*2"
   ]
  },
  {
   "cell_type": "code",
   "execution_count": 116,
   "metadata": {
    "collapsed": false
   },
   "outputs": [
    {
     "data": {
      "text/plain": [
       "Ttest_1sampResult(statistic=0.099893835193612959, pvalue=0.92523496958933249)"
      ]
     },
     "execution_count": 116,
     "metadata": {},
     "output_type": "execute_result"
    }
   ],
   "source": [
    "# you can also just use this function to directly output the t/p values\n",
    "stats.ttest_1samp(myrand,mymean)"
   ]
  },
  {
   "cell_type": "code",
   "execution_count": 117,
   "metadata": {
    "collapsed": false
   },
   "outputs": [],
   "source": [
    "# and this is how you store the output in two separate variables \n",
    "[tcalc,p]=stats.ttest_1samp(myrand,mymean)"
   ]
  },
  {
   "cell_type": "markdown",
   "metadata": {},
   "source": [
    "## Calculation of 95% CI manually and with python tools \n",
    "\n",
    "The CI is given by: $ \\bar x \\pm t^* * s.e.m.$\n",
    "\n",
    "* _t*_  is the critical t-value at a given combination of P and (N-1)  \n",
    "* Take care with 1-sided vs. 2-sided.  For the majority of examples you will want to use 2-sided"
   ]
  },
  {
   "cell_type": "code",
   "execution_count": 191,
   "metadata": {
    "collapsed": false
   },
   "outputs": [],
   "source": [
    "## Inverse lookup of critical t value at P=0.05 (2-sided) for our system above\n",
    "tcrit=stats.t.ppf(1-.025,myN-1)"
   ]
  },
  {
   "cell_type": "code",
   "execution_count": 192,
   "metadata": {
    "collapsed": false
   },
   "outputs": [],
   "source": [
    "## calculation of the 95% CI w/above formula\n",
    "my95CI=stats.sem(myrand)*tcrit"
   ]
  },
  {
   "cell_type": "code",
   "execution_count": 193,
   "metadata": {
    "collapsed": false
   },
   "outputs": [
    {
     "name": "stdout",
     "output_type": "stream",
     "text": [
      "6.8344294453 13.4018604303\n",
      "3.28371549249\n"
     ]
    }
   ],
   "source": [
    "## we can use a python stats tool to do this dirty work for us \n",
    "## usage: \n",
    "## stats.t.interval($CI, d.o.f., loc=mean, scale=sem)\n",
    "## the output are the Lower and Upper bounds of the 95% CI.  \n",
    "[L,U]=stats.t.interval(.95,myN-1,loc=myrand.mean(), scale=stats.sem(myrand))\n",
    "print L,U\n",
    "print (U-L)/2"
   ]
  },
  {
   "cell_type": "code",
   "execution_count": 194,
   "metadata": {
    "collapsed": false
   },
   "outputs": [
    {
     "name": "stdout",
     "output_type": "stream",
     "text": [
      "6.8344294453\n",
      "6.8344294453\n"
     ]
    }
   ],
   "source": [
    "## Let me convince you my hand calc matches the stats tool \n",
    "print myrand.mean()-(U-L)/2\n",
    "print myrand.mean()-my95CI"
   ]
  },
  {
   "cell_type": "markdown",
   "metadata": {},
   "source": [
    "### Regression example\n",
    "\n",
    "\n",
    "$Y=\\theta_1*X_1+\\theta_2*X_2+\\theta_3*X_1*X_2 $ "
   ]
  },
  {
   "cell_type": "code",
   "execution_count": 172,
   "metadata": {
    "collapsed": false
   },
   "outputs": [],
   "source": [
    "#So we can all get the same results\n",
    "np.random.seed(3456)\n",
    "#Range of Xdata\n",
    "Xdata=np.zeros((200,2))\n",
    "Xdata[:,0]=np.linspace(0,200,200)\n",
    "Xdata[:,1]=np.linspace(-25,25,200)\n",
    "#coefficients\n",
    "T1a=2.5\n",
    "T2a=-1.5\n",
    "T3a=0.34\n",
    "\n",
    "#define your function\n",
    "def mycoolfun(Xdata,T1,T2,T3):\n",
    "    return Xdata[:,0]*T1+Xdata[:,1]*T2+Xdata[:,0]*Xdata[:,1]*T3"
   ]
  },
  {
   "cell_type": "code",
   "execution_count": 173,
   "metadata": {
    "collapsed": false
   },
   "outputs": [
    {
     "data": {
      "text/plain": [
       "<matplotlib.collections.PathCollection at 0x11ec50a10>"
      ]
     },
     "execution_count": 173,
     "metadata": {},
     "output_type": "execute_result"
    },
    {
     "data": {
      "image/png": "[encoded data removed]",
      "text/plain": [
       "<matplotlib.figure.Figure at 0x11d5fae10>"
      ]
     },
     "metadata": {},
     "output_type": "display_data"
    }
   ],
   "source": [
    "# generate some random data \n",
    "MRD=mycoolfun(Xdata,T1a,T2a,T3a) + 50.0 * np.random.normal(size=len(Xdata))\n",
    "\n",
    "# plot the actual function Y generated w/T1-T3a and the random data\n",
    "# on top \n",
    "%matplotlib inline\n",
    "plt.plot(Xdata[:,0],mycoolfun(Xdata,T1a,T2a,T3a),lw=2)\n",
    "plt.xlabel('X1')\n",
    "plt.ylabel('Y')\n",
    "plt.scatter(Xdata[:,0],MRD,color='red')"
   ]
  },
  {
   "cell_type": "code",
   "execution_count": 183,
   "metadata": {
    "collapsed": false
   },
   "outputs": [
    {
     "name": "stdout",
     "output_type": "stream",
     "text": [
      "[ 2.42279398 -1.29517861  0.34163575]\n",
      "(2.5, -1.5, 0.34)\n"
     ]
    }
   ],
   "source": [
    "# call the curve fit function from scipy \n",
    "from scipy.optimize import curve_fit\n",
    "[coeff,pcov]=curve_fit(mycoolfun,Xdata,MRD)\n",
    "                         \n",
    "# what am I printing here? \n",
    "print (coeff)\n",
    "print (T1a,T2a,T3a)"
   ]
  },
  {
   "cell_type": "code",
   "execution_count": 187,
   "metadata": {
    "collapsed": false
   },
   "outputs": [
    {
     "data": {
      "text/plain": [
       "(array([  8.,  13.,  24.,  39.,  46.,  33.,  20.,  11.,   4.,   2.]),\n",
       " array([-112.0424556 ,  -86.41387118,  -60.78528676,  -35.15670234,\n",
       "          -9.52811792,   16.1004665 ,   41.72905092,   67.35763534,\n",
       "          92.98621977,  118.61480419,  144.24338861]),\n",
       " <a list of 10 Patch objects>)"
      ]
     },
     "execution_count": 187,
     "metadata": {},
     "output_type": "execute_result"
    },
    {
     "data": {
      "image/png": "[encoded data removed]",
      "text/plain": [
       "<matplotlib.figure.Figure at 0x1209a2190>"
      ]
     },
     "metadata": {},
     "output_type": "display_data"
    }
   ],
   "source": [
    "%matplotlib inline\n",
    "plt.figure(figsize=(4,10))\n",
    "plt.subplot(311)\n",
    "plt.plot(Xdata[:,0],mycoolfun(Xdata,coeff[0],coeff[1],coeff[2]),lw=2,color='green')\n",
    "plt.xlabel('X1')\n",
    "plt.ylabel('Y')\n",
    "plt.scatter(Xdata[:,0],MRD,color='red')\n",
    "plt.subplot(312)\n",
    "plt.scatter(Xdata[:,0],mycoolfun(Xdata,coeff[0],coeff[1],coeff[2])-MRD)\n",
    "plt.subplot(313)\n",
    "plt.hist(mycoolfun(Xdata,coeff[0],coeff[1],coeff[2])-MRD)\n"
   ]
  },
  {
   "cell_type": "code",
   "execution_count": null,
   "metadata": {
    "collapsed": true
   },
   "outputs": [],
   "source": []
  }
 ],
 "metadata": {
  "anaconda-cloud": {},
  "kernelspec": {
   "display_name": "Python [conda root]",
   "language": "python",
   "name": "conda-root-py"
  },
  "language_info": {
   "codemirror_mode": {
    "name": "ipython",
    "version": 2
   },
   "file_extension": ".py",
   "mimetype": "text/x-python",
   "name": "python",
   "nbconvert_exporter": "python",
   "pygments_lexer": "ipython2",
   "version": "2.7.12"
  }
 },
 "nbformat": 4,
 "nbformat_minor": 1
}
