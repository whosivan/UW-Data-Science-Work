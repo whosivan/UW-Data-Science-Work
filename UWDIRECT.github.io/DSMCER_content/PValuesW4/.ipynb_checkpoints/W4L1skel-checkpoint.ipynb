{
 "cells": [
  {
   "cell_type": "code",
   "execution_count": null,
   "metadata": {
    "collapsed": false
   },
   "outputs": [],
   "source": [
    "import numpy as np\n",
    "from scipy import stats\n",
    "import pandas as pd \n",
    "import matplotlib.pyplot as plt "
   ]
  },
  {
   "cell_type": "markdown",
   "metadata": {
    "collapsed": true
   },
   "source": [
    "### Python recipe for performing the 1-sample t-test \n",
    "\n",
    "![dist](mydist.png)\n",
    "\n",
    "### Error bar represents standard deviation "
   ]
  },
  {
   "cell_type": "code",
   "execution_count": null,
   "metadata": {
    "collapsed": false
   },
   "outputs": [],
   "source": [
    "# we will draw numbers from a random normal distribution - set mean and standard deviation \n",
    "mymean=FILL\n",
    "mystd=FILL\n",
    "myN=FILL \n",
    "# if you want to draw the same random numbers or compare with a friend then \n",
    "# set the random number seed the same \n",
    "np.random.seed(12345)\n",
    "\n",
    "# make sure you understand all the arguments \n",
    "myrand=np.random.normal(loc=mymean,scale=mystd,size=myN)\n",
    "\n",
    "# just print out some basic descriptive stats \n",
    "print myrand\n",
    "print myrand.mean()\n",
    "print myrand.std(ddof=1)\n",
    "# this is the s.e.m. - showed formula in class \n",
    "print stats.sem(myrand,ddof=1)"
   ]
  },
  {
   "cell_type": "code",
   "execution_count": null,
   "metadata": {
    "collapsed": false
   },
   "outputs": [],
   "source": [
    "# here is the hand calculation for the t-score, based on our formula \n",
    "\n",
    "t=(myrand.mean()-mymean)/stats.sem(myrand)\n",
    "print t"
   ]
  },
  {
   "cell_type": "code",
   "execution_count": null,
   "metadata": {
    "collapsed": false
   },
   "outputs": [],
   "source": [
    "# the function stats.t.sf is the lookup value - given a t-score it will\n",
    "# provide you the 1-sided p-value.  Feed the abs value of t-score and multiple by 2 \n",
    "# to obtain the standard 2-sided p-value! \n",
    "\n",
    "stats.t.sf(np.abs(t),myrand.size-1)*2"
   ]
  },
  {
   "cell_type": "code",
   "execution_count": null,
   "metadata": {
    "collapsed": false
   },
   "outputs": [],
   "source": [
    "# you can also just use this function to directly output the t/p values\n",
    "\n",
    "stats.ttest_1samp(myrand,mymean)"
   ]
  },
  {
   "cell_type": "code",
   "execution_count": null,
   "metadata": {
    "collapsed": false
   },
   "outputs": [],
   "source": [
    "# and this is how you store the output in two separate variables \n",
    "\n",
    "[tcalc,p]=stats.ttest_1samp(myrand,mymean)"
   ]
  },
  {
   "cell_type": "markdown",
   "metadata": {},
   "source": [
    "## Calculation of 95% CI manually and with python tools \n",
    "\n",
    "The CI is given by: $ \\bar x \\pm t^* * s.e.m.$\n",
    "\n",
    "* _t*_  is the critical t-value at a given combination of P and (N-1)  \n",
    "* Take care with 1-sided vs. 2-sided.  For the majority of examples you will want to use 2-sided"
   ]
  },
  {
   "cell_type": "code",
   "execution_count": null,
   "metadata": {
    "collapsed": false
   },
   "outputs": [],
   "source": [
    "## Inverse lookup of critical t value at P=0.05 (2-sided) for our system above\n",
    "tcrit=stats.t.ppf(1-.025,myN-1)\n",
    "print tcrit"
   ]
  },
  {
   "cell_type": "code",
   "execution_count": null,
   "metadata": {
    "collapsed": false
   },
   "outputs": [],
   "source": [
    "## calculation of the 95% CI w/above formula\n",
    "my95CI=stats.sem(myrand)*tcrit\n",
    "print my95CI"
   ]
  },
  {
   "cell_type": "code",
   "execution_count": null,
   "metadata": {
    "collapsed": false
   },
   "outputs": [],
   "source": [
    "## we can use a python stats tool to do this dirty work for us \n",
    "## usage: \n",
    "## stats.t.interval($CI, d.o.f., loc=mean, scale=sem)\n",
    "## the output are the Lower and Upper bounds of the 95% CI.  \n",
    "[L,U]=stats.t.interval(.95,myN-1,loc=myrand.mean(), scale=stats.sem(myrand))\n",
    "print L,U\n",
    "print (U-L)/2"
   ]
  },
  {
   "cell_type": "code",
   "execution_count": null,
   "metadata": {
    "collapsed": false
   },
   "outputs": [],
   "source": [
    "## Let me convince you my hand calc matches the stats tool \n",
    "print myrand.mean()-(U-L)/2\n",
    "print myrand.mean()-my95CI"
   ]
  },
  {
   "cell_type": "code",
   "execution_count": null,
   "metadata": {
    "collapsed": true
   },
   "outputs": [],
   "source": []
  }
 ],
 "metadata": {
  "anaconda-cloud": {},
  "kernelspec": {
   "display_name": "Python [conda root]",
   "language": "python",
   "name": "conda-root-py"
  },
  "language_info": {
   "codemirror_mode": {
    "name": "ipython",
    "version": 3
   },
   "file_extension": ".py",
   "mimetype": "text/x-python",
   "name": "python",
   "nbconvert_exporter": "python",
   "pygments_lexer": "ipython3",
   "version": "3.5.2"
  }
 },
 "nbformat": 4,
 "nbformat_minor": 1
}
