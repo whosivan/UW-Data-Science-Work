{
 "cells": [
  {
   "cell_type": "code",
   "execution_count": 1,
   "metadata": {
    "collapsed": false
   },
   "outputs": [
    {
     "ename": "ImportError",
     "evalue": "No module named 'sklearn'",
     "output_type": "error",
     "traceback": [
      "\u001b[0;31m---------------------------------------------------------------------------\u001b[0m",
      "\u001b[0;31mImportError\u001b[0m                               Traceback (most recent call last)",
      "\u001b[0;32m<ipython-input-1-13f306bd2816>\u001b[0m in \u001b[0;36m<module>\u001b[0;34m()\u001b[0m\n\u001b[1;32m      4\u001b[0m \u001b[0mget_ipython\u001b[0m\u001b[0;34m(\u001b[0m\u001b[0;34m)\u001b[0m\u001b[0;34m.\u001b[0m\u001b[0mmagic\u001b[0m\u001b[0;34m(\u001b[0m\u001b[0;34m'matplotlib inline'\u001b[0m\u001b[0;34m)\u001b[0m\u001b[0;34m\u001b[0m\u001b[0m\n\u001b[1;32m      5\u001b[0m \u001b[0;31m# this is a new library you haven't seen before, what do you think it does?\u001b[0m\u001b[0;34m\u001b[0m\u001b[0;34m\u001b[0m\u001b[0m\n\u001b[0;32m----> 6\u001b[0;31m \u001b[0;32mfrom\u001b[0m \u001b[0msklearn\u001b[0m\u001b[0;34m.\u001b[0m\u001b[0mneighbors\u001b[0m \u001b[0;32mimport\u001b[0m \u001b[0mKNeighborsClassifier\u001b[0m\u001b[0;34m\u001b[0m\u001b[0m\n\u001b[0m",
      "\u001b[0;31mImportError\u001b[0m: No module named 'sklearn'"
     ]
    }
   ],
   "source": [
    "import numpy as np\n",
    "import matplotlib.pyplot as plt \n",
    "import pandas as pd \n",
    "%matplotlib inline\n",
    "# this is a new library you haven't seen before, what do you think it does? \n",
    "from sklearn.neighbors import KNeighborsClassifier"
   ]
  },
  {
   "cell_type": "markdown",
   "metadata": {},
   "source": [
    "<img src=\"http://www.nature.com/article-assets/npg/srep/2015/150825/srep13285/images/w926/srep13285-f4.jpg\" width=\"300\" height=\"300\" />\n",
    "\n",
    "From this article in [Scientific Reports](http://www.nature.com/articles/srep13285)"
   ]
  },
  {
   "cell_type": "code",
   "execution_count": 9,
   "metadata": {
    "collapsed": true
   },
   "outputs": [],
   "source": [
    "#read in the data \n",
    "\n",
    "#this is the data from the above plot \n",
    "elements=pd.read_csv('atomsradii.csv')\n",
    "# these are the data you will use for testing. The elements\n",
    "# are unknown but the correct classification is given to you \n",
    "testing=pd.read_csv('testing.csv')"
   ]
  },
  {
   "cell_type": "code",
   "execution_count": null,
   "metadata": {
    "collapsed": false
   },
   "outputs": [],
   "source": [
    "# Take 1-2 min and look @ the data in elements using pandas and Python\n",
    "# you and your partner decide what to do.  \n",
    "# you could recreate the above plot with plt.scatter(elements.rWC,elements.rCh)"
   ]
  },
  {
   "cell_type": "code",
   "execution_count": 169,
   "metadata": {
    "collapsed": false
   },
   "outputs": [
    {
     "data": {
      "text/plain": [
       "KNeighborsClassifier(algorithm='auto', leaf_size=30, metric='minkowski',\n",
       "           metric_params=None, n_jobs=1, n_neighbors=5, p=2,\n",
       "           weights='uniform')"
      ]
     },
     "execution_count": 169,
     "metadata": {},
     "output_type": "execute_result"
    }
   ],
   "source": [
    "#This variable controls K \n",
    "K=5\n",
    "# make a new classifier object call \"knn\" by calling the appropriate function from \n",
    "# scikitlearn.  Look at the inputs to the function call \n",
    "knn = KNeighborsClassifier(n_neighbors=K)\n",
    "\n",
    "# this next line fits the knn model and determines the decision boundary \n",
    "# the arguments are simply:  knn.fit(X,Y) (using language from class/ISL)\n",
    "# note how I am passing the X data (a matrix of the x/y data plotted above)\n",
    "# and note that I am using np.ravel on the Type dataframe. If you remove \n",
    "# np.ravel and just pass elements. Type you will see a warning.  You might\n",
    "# take a moment to determine what is the difference between np.ravel(elements.Type)\n",
    "# and elements.Type...\n",
    "\n",
    "knn.fit(elements[['rWC','rCh']],np.ravel(elements.Type))"
   ]
  },
  {
   "cell_type": "markdown",
   "metadata": {},
   "source": [
    "### You can use the following function to see how your model is doing: \n",
    "\n",
    "`knn.predict(X) `\n",
    "\n",
    "#### As a function of K, you and your partner should determine:  \n",
    "* Testing error rate\n",
    "* Training error rate \n",
    "\n",
    "#### Need not be quantitative but spend (1/2  - 2/3 of remaining time exploring this) \n",
    "\n",
    "### With remaining time go through the cell below and look at graphs of the decision boundary vs K. \n",
    "* See if you can use the graph to determine your **testing** error rate  \n",
    "* Could you also use the graph to determine your **training** error rate? (_open ended_)"
   ]
  },
  {
   "cell_type": "code",
   "execution_count": 173,
   "metadata": {
    "collapsed": false
   },
   "outputs": [
    {
     "data": {
      "text/plain": [
       "<matplotlib.text.Text at 0x11b37b9d0>"
      ]
     },
     "execution_count": 173,
     "metadata": {},
     "output_type": "execute_result"
    },
    {
     "data": {
      "image/png": "[encoded data removed]",
      "text/plain": [
       "<matplotlib.figure.Figure at 0x11ad4a290>"
      ]
     },
     "metadata": {},
     "output_type": "display_data"
    }
   ],
   "source": [
    "# additional library we will use \n",
    "from matplotlib.colors import ListedColormap\n",
    "\n",
    "# just for convenience and similarity with sklearn tutorial\n",
    "# I am going to assign our X and Y data to specific vectors\n",
    "# this is not strictly needed and you could use elements df for the whole thing!\n",
    "\n",
    "X=elements[['rWC','rCh']]\n",
    "\n",
    "#this is a trick to turn our strings (type of element / class) into unique \n",
    "#numbers.  Play with this in a separate cell and make sure you know wth is \n",
    "#going on!\n",
    "levels,labels=pd.factorize(elements.Type)\n",
    "y=levels\n",
    "\n",
    "#This determines levelspacing for our color map and the colors themselves\n",
    "h=0.02\n",
    "cmap_light = ListedColormap(['#FFAAAA', '#AAFFAA', '#AAAAFF'])\n",
    "cmap_bold = ListedColormap(['#FF0000', '#00FF00', '#0000FF'])\n",
    "\n",
    "# in the sklearn tutorial two different weights are compared\n",
    "# the decision between \"uniform\" and \"distance\" determines the probability\n",
    "# weight.  \"uniform\" is the version presented in class, you can change to \n",
    "# distance\n",
    "weights='uniform'\n",
    "\n",
    "# I am actually refitting the KNN here. If you had a big data set you would\n",
    "# not do this, but I want you to have the convenience of changing K or \n",
    "# weights here in this cell. Large training sets with many features can take \n",
    "# awhile for KNN training! \n",
    "\n",
    "K=5\n",
    "clf = KNeighborsClassifier(n_neighbors=5, weights=weights)\n",
    "clf.fit(X,y)\n",
    "\n",
    "# Straight from the tutorial - quickly read and see if you know what these \n",
    "# things are going - if you are < 5 min until end then you should skip this part \n",
    "\n",
    "# Plot the decision boundary. For that, we will assign a color to each\n",
    "# point in the mesh [x_min, x_max]x[y_min, y_max].\n",
    "x_min, x_max = elements.rWC.min() - 0.1  , elements.rWC.max() + 0.1\n",
    "y_min, y_max = elements.rCh.min() - 0.1  , elements.rCh.max() + 0.1  \n",
    "xx, yy = np.meshgrid(np.arange(x_min, x_max, h), \n",
    "                     np.arange(y_min, y_max, h)) \n",
    "Z = clf.predict(np.c_[xx.ravel(), yy.ravel()])\n",
    "\n",
    "# Put the result into a color plot\n",
    "Z = Z.reshape(xx.shape)\n",
    "plt.figure(figsize=(4,4));\n",
    "plt.pcolormesh(xx, yy, Z, cmap=cmap_light)\n",
    "\n",
    "# Plot also the training points\n",
    "# This may be the 1st time you have seen how to color points by a 3rd vector\n",
    "# In this case y ( see c=y in below statement ). This is very useful! \n",
    "plt.scatter(X.rWC, X.rCh, c=y, cmap=cmap_bold)\n",
    "\n",
    "# Set limits and lebels \n",
    "plt.xlim(xx.min(), xx.max())\n",
    "plt.ylim(yy.min(), yy.max())\n",
    "plt.xlabel('rWC')\n",
    "plt.ylabel('rCh')"
   ]
  },
  {
   "cell_type": "code",
   "execution_count": null,
   "metadata": {
    "collapsed": true
   },
   "outputs": [],
   "source": [
    "KNeighborsClassifier()"
   ]
  }
 ],
 "metadata": {
  "anaconda-cloud": {},
  "kernelspec": {
   "display_name": "Python [conda root]",
   "language": "python",
   "name": "conda-root-py"
  },
  "language_info": {
   "codemirror_mode": {
    "name": "ipython",
    "version": 3
   },
   "file_extension": ".py",
   "mimetype": "text/x-python",
   "name": "python",
   "nbconvert_exporter": "python",
   "pygments_lexer": "ipython3",
   "version": "3.5.2"
  }
 },
 "nbformat": 4,
 "nbformat_minor": 1
}
