{
 "cells": [
  {
   "cell_type": "markdown",
   "metadata": {},
   "source": [
    "# Procedural programming in python\n",
    "\n",
    "## Topics\n",
    "\n",
    "* Review of procedural Python\n",
    "* Exceptions & asserts\n",
    "* Tests\n",
    " * Testing tests\n",
    " * Units of testing\n",
    " * Using nosetests\n"
   ]
  },
  {
   "cell_type": "markdown",
   "metadata": {},
   "source": [
    "<hr>"
   ]
  },
  {
   "cell_type": "markdown",
   "metadata": {},
   "source": [
    "<hr>\n",
    "## Flow control\n",
    "\n",
    "<img src=\"https://docs.oracle.com/cd/B19306_01/appdev.102/b14261/lnpls008.gif\">Flow control figure</img>\n",
    "\n",
    "Flow control refers how to programs do loops, conditional execution, and order of functional operations.  "
   ]
  },
  {
   "cell_type": "markdown",
   "metadata": {},
   "source": [
    "<hr>"
   ]
  },
  {
   "cell_type": "markdown",
   "metadata": {},
   "source": [
    "### Functions\n",
    "\n",
    "For loops let you repeat some code for every item in a list.  Functions are similar in that they run the same lines of code for new values of some variable.  They are different in that functions are not limited to looping over items.\n",
    "\n",
    "Functions are a critical part of writing easy to read, reusable code.\n",
    "\n",
    "Create a function like:\n",
    "```\n",
    "def function_name (parameters):\n",
    "    \"\"\"\n",
    "    docstring\n",
    "    \"\"\"\n",
    "    function expressions\n",
    "    return [variable]\n",
    "```\n",
    "\n",
    "_Note:_ Sometimes I use the word argument in place of parameter.\n"
   ]
  },
  {
   "cell_type": "markdown",
   "metadata": {},
   "source": [
    "### Parameters have three different types:\n",
    "\n",
    "| type | behavior |\n",
    "|------|----------|\n",
    "| required | positional, must be present or error, e.g. `my_func(first_name, last_name)` |\n",
    "| keyword | position independent, e.g. `my_func(first_name, last_name)` can be called `my_func(first_name='Dave', last_name='Beck')` or `my_func(last_name='Beck', first_name='Dave')` |\n",
    "| default | keyword params that default to a value if not provided |\n"
   ]
  },
  {
   "cell_type": "markdown",
   "metadata": {},
   "source": [
    "Functions can contain any code that you put anywhere else including:\n",
    "* if...elif...else\n",
    "* for...else\n",
    "* while\n",
    "* other function calls"
   ]
  },
  {
   "cell_type": "markdown",
   "metadata": {},
   "source": [
    "<HR>\n",
    "## From nothing to something\n",
    "\n",
    "### Task: Compute the pairwise Pearson correlation between rows in a dataframe.\n",
    "\n",
    "Let's say we have three molecules (A, B, C) with three measurements each (v1, v2, v3).  So for each molecule we have a vector of measurements:\n",
    "\n",
    "$$X=\\begin{bmatrix}\n",
    "         X_{v_{1}} \\\\\n",
    "         X_{v_{2}} \\\\\n",
    "         X_{v_{3}} \\\\\n",
    "        \\end{bmatrix} $$\n",
    "        \n",
    "Where X is a molecule and the components are the values for each of the measurements.  These make up the rows in our matrix.\n",
    "\n",
    "Often, we want to compare molecules to determine how similar or different they are.  One measure is the Pearson correlation.\n",
    "\n",
    "Pearson correlation: <img src=\"https://wikimedia.org/api/rest_v1/media/math/render/svg/01d103c10e6d4f477953a9b48c69d19a954d978a\"/>\n",
    "\n",
    "Expressed graphically, when you plot the paired measurements for two samples (in this case molecules) against each other you can see positively correlated, no correlation, and negatively correlated.  Eg.\n",
    "<img src=\"http://www.statisticshowto.com/wp-content/uploads/2012/10/pearson-2-small.png\"/>\n",
    "\n",
    "\n",
    "Simple input dataframe (_note_ when you are writing code it is always a good idea to have a simple test case where you can readily compute by hand or know the output):\n",
    "\n",
    "| index | v1 | v2 | v3 |\n",
    "|-------|----|----|----|\n",
    "| A     | -1 | 0  | 1  |\n",
    "| B     | 1  | 0  | -1 |\n",
    "| C     | .5 | 0  | .5 |\n",
    "\n",
    "* If the above is a dataframe what shape and size is the output?"
   ]
  },
  {
   "cell_type": "markdown",
   "metadata": {},
   "source": [
    "3 x 3 matrix"
   ]
  },
  {
   "cell_type": "markdown",
   "metadata": {},
   "source": [
    "* Whare are some unique features of the output?"
   ]
  },
  {
   "cell_type": "markdown",
   "metadata": {},
   "source": [
    "Square, symmetric, unit diagonal"
   ]
  },
  {
   "cell_type": "markdown",
   "metadata": {},
   "source": [
    "For our test case, what will the output be?"
   ]
  },
  {
   "cell_type": "markdown",
   "metadata": {
    "collapsed": true
   },
   "source": [
    "|   | A | B | C |\n",
    "|---|---|---|---|\n",
    "| A | 1 | -1 | 0 |\n",
    "| B | -1 | 1 | 0 |\n",
    "| C | 0 | 0 | 1 |"
   ]
  },
  {
   "cell_type": "code",
   "execution_count": 4,
   "metadata": {
    "collapsed": false
   },
   "outputs": [
    {
     "data": {
      "text/plain": [
       "74.50580596923828"
      ]
     },
     "execution_count": 4,
     "metadata": {},
     "output_type": "execute_result"
    }
   ],
   "source": [
    "a=100000\n",
    "b=a*a\n",
    "b=(8*b)/1024/1024/1024\n",
    "b"
   ]
  },
  {
   "cell_type": "markdown",
   "metadata": {},
   "source": [
    "### Let's sketch the idea..."
   ]
  },
  {
   "cell_type": "markdown",
   "metadata": {},
   "source": [
    "\n",
    "\n",
    "\n",
    "nested for loop...\n",
    "\n",
    "```\n",
    "for some row in dataframe rows\n",
    "    for some row compare to other rows\n",
    "        computer pearson between some row and other row\n",
    "        save pearson someplace\n",
    "        \n",
    "return\n",
    "```"
   ]
  },
  {
   "cell_type": "code",
   "execution_count": 6,
   "metadata": {
    "collapsed": true
   },
   "outputs": [],
   "source": [
    "def pairwise_correlation(df):\n",
    "    # intitialize empty matrix\n",
    "\n",
    "    # for iterows outer loop\n",
    "        # initialize empty matrix\n",
    "        # for iterows inner loop\n",
    "            # append to second empty matrix outer to inner corr\n",
    "        # append second matrix to first matrix    \n",
    "    \n",
    "    return first_matrix\n",
    "\n",
    "\n",
    "def pairwise_correlation(df):\n",
    "    # intitialize empty matrix\n",
    "\n",
    "    # for i in range(length(df.rows))\n",
    "        # initialize empty matrix\n",
    "        # for j in range(...):\n",
    "            # matrix[i][j] = corr\n",
    "        # append second matrix to first matrix    \n",
    "    \n",
    "    return first_matrix\n",
    "\n",
    "  "
   ]
  },
  {
   "cell_type": "markdown",
   "metadata": {},
   "source": [
    "## In class exercise\n",
    "### 20-30 minutes\n",
    "#### Objectives: \n",
    "1. Write code using functions to compute the pairwise Pearson correlation between rows in a pandas dataframe.  You will have to use ``for`` and possibly ``if``.\n",
    "2. Use a cell to test each function with an input that yields an expected output.  Think about the shape and values of the outputs.\n",
    "3. Put the code in a ``.py`` file in the directory with the Jupyter notebook, import and run!\n",
    "\n",
    "\n",
    "#### To help you get started...\n",
    "To create the sample dataframe:\n",
    "```\n",
    "df = pd.DataFrame([[-1, 0, 1], [1, 0, -1], [.5, 0, .5]])\n",
    "```\n",
    "\n",
    "To loop over rows in a dataframe, check out (Google is your friend):\n",
    "```\n",
    "DataFrame.iterrows\n",
    "```\n",
    "\n",
    "For a row, to compute correlation to another list, series, vector, use:\n",
    "```\n",
    "my_row.corr(other_row)\n",
    "```"
   ]
  },
  {
   "cell_type": "code",
   "execution_count": 7,
   "metadata": {
    "collapsed": false
   },
   "outputs": [],
   "source": [
    "import pandas as pd\n",
    "df = pd.DataFrame([[-1, 0, 1], [1, 0, -1], [.5, 0, .5]])"
   ]
  },
  {
   "cell_type": "code",
   "execution_count": 8,
   "metadata": {
    "collapsed": false
   },
   "outputs": [
    {
     "data": {
      "text/html": [
       "<div>\n",
       "<table border=\"1\" class=\"dataframe\">\n",
       "  <thead>\n",
       "    <tr style=\"text-align: right;\">\n",
       "      <th></th>\n",
       "      <th>0</th>\n",
       "      <th>1</th>\n",
       "      <th>2</th>\n",
       "    </tr>\n",
       "  </thead>\n",
       "  <tbody>\n",
       "    <tr>\n",
       "      <th>0</th>\n",
       "      <td>-1.0</td>\n",
       "      <td>0</td>\n",
       "      <td>1.0</td>\n",
       "    </tr>\n",
       "    <tr>\n",
       "      <th>1</th>\n",
       "      <td>1.0</td>\n",
       "      <td>0</td>\n",
       "      <td>-1.0</td>\n",
       "    </tr>\n",
       "    <tr>\n",
       "      <th>2</th>\n",
       "      <td>0.5</td>\n",
       "      <td>0</td>\n",
       "      <td>0.5</td>\n",
       "    </tr>\n",
       "  </tbody>\n",
       "</table>\n",
       "</div>"
      ],
      "text/plain": [
       "     0  1    2\n",
       "0 -1.0  0  1.0\n",
       "1  1.0  0 -1.0\n",
       "2  0.5  0  0.5"
      ]
     },
     "execution_count": 8,
     "metadata": {},
     "output_type": "execute_result"
    }
   ],
   "source": [
    "df"
   ]
  },
  {
   "cell_type": "code",
   "execution_count": 13,
   "metadata": {
    "collapsed": true
   },
   "outputs": [],
   "source": [
    "def row_i_to_row_j(row_i, row_j):\n",
    "    \"\"\"docstring goes here\"\"\"\n",
    "    return row_i.corr(row_j)\n",
    "\n",
    "def row_i_to_all_rows(df, index_i, row_i, metric):\n",
    "    \"\"\"docstring goes here\"\"\"\n",
    "    for index_j, row_j in df.iterrows():\n",
    "        # use special features of the matrix\n",
    "        if index_j < index_i:\n",
    "            continue\n",
    "        elif index_i == index_j:\n",
    "            metric.loc[index_i, index_j] = 1\n",
    "        else:\n",
    "            metric.loc[index_i, index_j] = row_i_to_row_j(row_i, row_j)\n",
    "            metric.loc[index_j, index_i] = metric.loc[index_i, index_j]\n",
    "    return \n",
    "\n",
    "def pairwise_correlation(df):\n",
    "    \"\"\"docstring goes here\"\"\"\n",
    "    metric = pd.DataFrame()\n",
    "    for index_i, row_i in df.iterrows():\n",
    "        row_i_to_all_rows(df, index_i, row_i, metric)\n",
    "    return metric"
   ]
  },
  {
   "cell_type": "code",
   "execution_count": 14,
   "metadata": {
    "collapsed": false
   },
   "outputs": [
    {
     "data": {
      "text/html": [
       "<div>\n",
       "<table border=\"1\" class=\"dataframe\">\n",
       "  <thead>\n",
       "    <tr style=\"text-align: right;\">\n",
       "      <th></th>\n",
       "      <th>0</th>\n",
       "      <th>1</th>\n",
       "      <th>2</th>\n",
       "    </tr>\n",
       "  </thead>\n",
       "  <tbody>\n",
       "    <tr>\n",
       "      <th>0</th>\n",
       "      <td>1.0</td>\n",
       "      <td>-1.0</td>\n",
       "      <td>0.0</td>\n",
       "    </tr>\n",
       "    <tr>\n",
       "      <th>1</th>\n",
       "      <td>-1.0</td>\n",
       "      <td>1.0</td>\n",
       "      <td>0.0</td>\n",
       "    </tr>\n",
       "    <tr>\n",
       "      <th>2</th>\n",
       "      <td>0.0</td>\n",
       "      <td>0.0</td>\n",
       "      <td>1.0</td>\n",
       "    </tr>\n",
       "  </tbody>\n",
       "</table>\n",
       "</div>"
      ],
      "text/plain": [
       "     0    1    2\n",
       "0  1.0 -1.0  0.0\n",
       "1 -1.0  1.0  0.0\n",
       "2  0.0  0.0  1.0"
      ]
     },
     "execution_count": 14,
     "metadata": {},
     "output_type": "execute_result"
    }
   ],
   "source": [
    "pairwise_correlation(df)"
   ]
  },
  {
   "cell_type": "code",
   "execution_count": null,
   "metadata": {
    "collapsed": true
   },
   "outputs": [],
   "source": []
  },
  {
   "cell_type": "markdown",
   "metadata": {
    "collapsed": true
   },
   "source": [
    "<hr>\n",
    "## How do we know it is working?\n",
    "\n",
    "\n",
    "#### Use the test case!\n",
    "Our three row example is a useful tool for checking that our code is working.  We can write some tests that compare the output of our functions to our expectations.\n",
    "\n",
    "E.g. The diagonals should be 1, and corr(A, B) = -1, ...\n",
    "\n",
    "#### But first, let's talk ``assert`` and ``raise``\n",
    "\n",
    "We've already briefly been exposed to assert in this code:\n",
    "```\n",
    "if os.path.exists(filename):\n",
    "    pass\n",
    "else:\n",
    "    req = requests.get(url)\n",
    "    # if the download failed, next line will raise an error\n",
    "    assert req.status_code == 200\n",
    "    with open(filename, 'wb') as f:\n",
    "        f.write(req.content)\n",
    "```\n",
    "\n",
    "What is the assert doing there?\n",
    "\n",
    "Let's play with ``assert``.  What should the following asserts do?\n",
    "```\n",
    "assert True == False, \"You assert wrongly, sir!\"\n",
    "assert 'Dave' in instructors\n",
    "assert function_that_returns_True_or_False(parameters)\n",
    "```"
   ]
  },
  {
   "cell_type": "code",
   "execution_count": 29,
   "metadata": {
    "collapsed": false
   },
   "outputs": [
    {
     "ename": "AssertionError",
     "evalue": "",
     "output_type": "error",
     "traceback": [
      "\u001b[0;31m---------------------------------------------------------------------------\u001b[0m",
      "\u001b[0;31mAssertionError\u001b[0m                            Traceback (most recent call last)",
      "\u001b[0;32m<ipython-input-29-9f257a578f75>\u001b[0m in \u001b[0;36m<module>\u001b[0;34m()\u001b[0m\n\u001b[1;32m      1\u001b[0m \u001b[0minstructors\u001b[0m\u001b[0;34m=\u001b[0m\u001b[0;34m[\u001b[0m\u001b[0;34m'Dave'\u001b[0m\u001b[0;34m,\u001b[0m \u001b[0;34m'Jim'\u001b[0m\u001b[0;34m]\u001b[0m\u001b[0;34m\u001b[0m\u001b[0m\n\u001b[0;32m----> 2\u001b[0;31m \u001b[0;32massert\u001b[0m \u001b[0;34m'David'\u001b[0m \u001b[0;32min\u001b[0m \u001b[0minstructors\u001b[0m\u001b[0;34m\u001b[0m\u001b[0m\n\u001b[0m",
      "\u001b[0;31mAssertionError\u001b[0m: "
     ]
    }
   ],
   "source": [
    "instructors=['Dave', 'Jim']\n",
    "assert 'David' in instructors"
   ]
  },
  {
   "cell_type": "markdown",
   "metadata": {},
   "source": []
  },
  {
   "cell_type": "markdown",
   "metadata": {},
   "source": [
    "So when an assert statement is true, the code keeps executing and when it is false, it ``raises`` an exception (also known as an error).\n",
    "\n",
    "We've all probably seen lots of exception.  E.g.\n",
    "\n",
    "```\n",
    "def some_function(parameter):\n",
    "    return\n",
    "\n",
    "some_function()\n",
    "```\n",
    "\n",
    "```\n",
    "some_dict = { }\n",
    "print(some_dict['invalid key'])\n",
    "```\n",
    "\n",
    "```\n",
    "'fourty' + 2\n",
    "```\n",
    "\n",
    "Like C++ and other languages, Python let's you ``raise`` your own exception.  You can do it with ``raise`` (surprise!).  Exceptions are special objects and you can create your own type of exceptions.  For now, we are going to look at the simplest ``Exception``.\n",
    "\n",
    "We create an ``Exception`` object by calling the generator:\n",
    "```\n",
    "Exception()\n",
    "```\n",
    "\n",
    "This isn't very helpful.  We really want to supply a description.  The Exception object takes any number of strings.  One good form if you are using the generic exception object is:\n",
    "```\n",
    "Exception('Short description', 'Long description')\n",
    "```\n"
   ]
  },
  {
   "cell_type": "code",
   "execution_count": 26,
   "metadata": {
    "collapsed": false
   },
   "outputs": [
    {
     "data": {
      "text/plain": [
       "pandas.core.frame.DataFrame"
      ]
     },
     "execution_count": 26,
     "metadata": {},
     "output_type": "execute_result"
    }
   ],
   "source": [
    "type(df)"
   ]
  },
  {
   "cell_type": "code",
   "execution_count": 33,
   "metadata": {
    "collapsed": false
   },
   "outputs": [],
   "source": [
    "def df_check(df):\n",
    "    if isinstance(df, pd.DataFrame):\n",
    "        print('is a dataframe')\n",
    "    else:\n",
    "        raise Exception('Bad type', 'Not a dataframe')\n",
    "    return\n"
   ]
  },
  {
   "cell_type": "code",
   "execution_count": 34,
   "metadata": {
    "collapsed": false
   },
   "outputs": [
    {
     "name": "stdout",
     "output_type": "stream",
     "text": [
      "is a dataframe\n"
     ]
    }
   ],
   "source": [
    "df_check(df)"
   ]
  },
  {
   "cell_type": "code",
   "execution_count": 35,
   "metadata": {
    "collapsed": false
   },
   "outputs": [
    {
     "ename": "Exception",
     "evalue": "('Bad type', 'Not a dataframe')",
     "output_type": "error",
     "traceback": [
      "\u001b[0;31m---------------------------------------------------------------------------\u001b[0m",
      "\u001b[0;31mException\u001b[0m                                 Traceback (most recent call last)",
      "\u001b[0;32m<ipython-input-35-cd13e3f6c0a4>\u001b[0m in \u001b[0;36m<module>\u001b[0;34m()\u001b[0m\n\u001b[0;32m----> 1\u001b[0;31m \u001b[0mdf_check\u001b[0m\u001b[0;34m(\u001b[0m\u001b[0;36m3\u001b[0m\u001b[0;34m)\u001b[0m\u001b[0;34m\u001b[0m\u001b[0m\n\u001b[0m",
      "\u001b[0;32m<ipython-input-33-e74b2043dc86>\u001b[0m in \u001b[0;36mdf_check\u001b[0;34m(df)\u001b[0m\n\u001b[1;32m      3\u001b[0m         \u001b[0mprint\u001b[0m\u001b[0;34m(\u001b[0m\u001b[0;34m'is a dataframe'\u001b[0m\u001b[0;34m)\u001b[0m\u001b[0;34m\u001b[0m\u001b[0m\n\u001b[1;32m      4\u001b[0m     \u001b[0;32melse\u001b[0m\u001b[0;34m:\u001b[0m\u001b[0;34m\u001b[0m\u001b[0m\n\u001b[0;32m----> 5\u001b[0;31m         \u001b[0;32mraise\u001b[0m \u001b[0mException\u001b[0m\u001b[0;34m(\u001b[0m\u001b[0;34m'Bad type'\u001b[0m\u001b[0;34m,\u001b[0m \u001b[0;34m'Not a dataframe'\u001b[0m\u001b[0;34m)\u001b[0m\u001b[0;34m\u001b[0m\u001b[0m\n\u001b[0m\u001b[1;32m      6\u001b[0m     \u001b[0;32mreturn\u001b[0m\u001b[0;34m\u001b[0m\u001b[0m\n",
      "\u001b[0;31mException\u001b[0m: ('Bad type', 'Not a dataframe')"
     ]
    }
   ],
   "source": [
    "df_check(3)"
   ]
  },
  {
   "cell_type": "code",
   "execution_count": 36,
   "metadata": {
    "collapsed": false
   },
   "outputs": [
    {
     "ename": "TypeError",
     "evalue": "unsupported operand type(s) for +: 'int' and 'str'",
     "output_type": "error",
     "traceback": [
      "\u001b[0;31m---------------------------------------------------------------------------\u001b[0m",
      "\u001b[0;31mTypeError\u001b[0m                                 Traceback (most recent call last)",
      "\u001b[0;32m<ipython-input-36-e62ea7a89d5a>\u001b[0m in \u001b[0;36m<module>\u001b[0;34m()\u001b[0m\n\u001b[0;32m----> 1\u001b[0;31m \u001b[0;36m3\u001b[0m\u001b[0;34m+\u001b[0m\u001b[0;34m'4'\u001b[0m\u001b[0;34m\u001b[0m\u001b[0m\n\u001b[0m",
      "\u001b[0;31mTypeError\u001b[0m: unsupported operand type(s) for +: 'int' and 'str'"
     ]
    }
   ],
   "source": [
    "3+'4'"
   ]
  },
  {
   "cell_type": "markdown",
   "metadata": {},
   "source": [
    "Creating an exception object isn't useful alone, however.  We need to send it down the software stack to the Python interpreter so that it can handle the exception condition.  We do this with ``raise``.\n",
    "\n",
    "```\n",
    "raise Exception(\"An error has occurred.\")\n",
    "```\n",
    "\n",
    "Now you can create your own error messages like a pro!"
   ]
  },
  {
   "cell_type": "code",
   "execution_count": null,
   "metadata": {
    "collapsed": true
   },
   "outputs": [],
   "source": []
  },
  {
   "cell_type": "markdown",
   "metadata": {},
   "source": [
    "#### DETOUR!\n",
    "\n",
    "There are lots of types of exceptions beyond the generic class ``Exception``.  You can use them in your own code if they make sense.  E.g.  \n",
    "```\n",
    "import math\n",
    "my_variable = math.inf\n",
    "if my_variable == math.inf:\n",
    "    raise ValueError('my_variable cannot be infinity')\n",
    "```\n",
    "\n",
    "<p>List of Standard Exceptions &minus;</p>\n",
    "<table class=\"table table-bordered\">\n",
    "<tr>\n",
    "<th><b>EXCEPTION NAME</b></th>\n",
    "<th><b>DESCRIPTION</b></th>\n",
    "</tr>\n",
    "<tr>\n",
    "<td>Exception</td>\n",
    "<td>Base class for all exceptions</td>\n",
    "</tr>\n",
    "<tr>\n",
    "<td>StopIteration</td>\n",
    "<td>Raised when the next() method of an iterator does not point to any object.</td>\n",
    "</tr>\n",
    "<tr>\n",
    "<td>SystemExit</td>\n",
    "<td>Raised by the sys.exit() function.</td>\n",
    "</tr>\n",
    "<tr>\n",
    "<td>StandardError</td>\n",
    "<td>Base class for all built-in exceptions except StopIteration and SystemExit.</td>\n",
    "</tr>\n",
    "<tr>\n",
    "<td>ArithmeticError</td>\n",
    "<td>Base class for all errors that occur for numeric calculation.</td>\n",
    "</tr>\n",
    "<tr>\n",
    "<td>OverflowError</td>\n",
    "<td>Raised when a calculation exceeds maximum limit for a numeric type.</td>\n",
    "</tr>\n",
    "<tr>\n",
    "<td>FloatingPointError</td>\n",
    "<td>Raised when a floating point calculation fails.</td>\n",
    "</tr>\n",
    "<tr>\n",
    "<td>ZeroDivisonError</td>\n",
    "<td>Raised when division or modulo by zero takes place for all numeric types.</td>\n",
    "</tr>\n",
    "<tr>\n",
    "<td>AssertionError</td>\n",
    "<td>Raised in case of failure of the Assert statement.</td>\n",
    "</tr>\n",
    "<tr>\n",
    "<td>AttributeError</td>\n",
    "<td>Raised in case of failure of attribute reference or assignment.</td>\n",
    "</tr>\n",
    "<tr>\n",
    "<td>EOFError</td>\n",
    "<td>Raised when there is no input from either the raw_input() or input() function and the end of file is reached.</td>\n",
    "</tr>\n",
    "<tr>\n",
    "<td>ImportError</td>\n",
    "<td>Raised when an import statement fails.</td>\n",
    "</tr>\n",
    "<tr>\n",
    "<td>KeyboardInterrupt</td>\n",
    "<td>Raised when the user interrupts program execution, usually by pressing Ctrl+c.</td>\n",
    "</tr>\n",
    "<tr>\n",
    "<td>LookupError</td>\n",
    "<td>Base class for all lookup errors.</td>\n",
    "</tr>\n",
    "<tr>\n",
    "<td><p>IndexError</p><p>KeyError</p></td>\n",
    "<td><p>Raised when an index is not found in a sequence.</p><p>Raised when the specified key is not found in the dictionary.</p></td>\n",
    "</tr>\n",
    "<tr>\n",
    "<td>NameError</td>\n",
    "<td>Raised when an identifier is not found in the local or global namespace.</td>\n",
    "</tr>\n",
    "<tr>\n",
    "<td><p>UnboundLocalError</p><p>EnvironmentError</p></td>\n",
    "<td><p>Raised when trying to access a local variable in a function or method but no value has been assigned to it.</p><p>Base class for all exceptions that occur outside the Python environment.</p></td>\n",
    "</tr>\n",
    "<tr>\n",
    "<td><p>IOError</p><p>IOError</p></td>\n",
    "<td><p>Raised when an input/ output operation fails, such as the print statement or the open() function when trying to open a file that does not exist.</p><p>Raised for operating system-related errors.</p></td>\n",
    "</tr>\n",
    "<tr>\n",
    "<td><p>SyntaxError</p><p>IndentationError</p></td>\n",
    "<td><p>Raised when there is an error in Python syntax.</p><p>Raised when indentation is not specified properly.</p></td>\n",
    "</tr>\n",
    "<tr>\n",
    "<td>SystemError</td>\n",
    "<td>Raised when the interpreter finds an internal problem, but when this error is encountered the Python interpreter does not exit.</td>\n",
    "</tr>\n",
    "<tr>\n",
    "<td>SystemExit</td>\n",
    "<td>Raised when Python interpreter is quit by using the sys.exit() function. If not handled in the code, causes the interpreter to exit.</td>\n",
    "</tr>\n",
    "<tr>\n",
    "<td>Raised when Python interpreter is quit by using the sys.exit() function. If not handled in the code, causes the interpreter to exit.</td>\n",
    "<td>Raised when an operation or function is attempted that is invalid for the specified data type.</td>\n",
    "</tr>\n",
    "<tr>\n",
    "<td>ValueError</td>\n",
    "<td>Raised when the built-in function for a data type has the valid type of arguments, but the arguments have invalid values specified.</td>\n",
    "</tr>\n",
    "<tr>\n",
    "<td>RuntimeError</td>\n",
    "<td>Raised when a generated error does not fall into any category.</td>\n",
    "</tr>\n",
    "<tr>\n",
    "<td>NotImplementedError</td>\n",
    "<td>Raised when an abstract method that needs to be implemented in an inherited class is not actually implemented.</td>\n",
    "</tr>\n",
    "</table>"
   ]
  },
  {
   "cell_type": "code",
   "execution_count": null,
   "metadata": {
    "collapsed": true
   },
   "outputs": [],
   "source": []
  },
  {
   "cell_type": "markdown",
   "metadata": {},
   "source": [
    "#### Put it all together... ``assert`` and ``raise``\n",
    "\n",
    "Breaking assert down, it is really just an if test followed by a raise.  So the code below:\n",
    "```\n",
    "assert <some_test>, <message>\n",
    "```\n",
    "is equivalent to a short hand for:\n",
    "```\n",
    "if not <some_test>:\n",
    "        raise AssertionError(<message>)       \n",
    "```\n",
    "\n",
    "Prove it?  OK.\n",
    "\n",
    "```\n",
    "instructors = ['Dorkus the Clown', 'Jim']\n",
    "assert 'Dave' in instructors, \"Dave isn't in the instructor list!\"\n",
    "```\n",
    "\n",
    "```\n",
    "instructors = ['Dorkus the Clown', 'Jim']\n",
    "assert 'Dave' in instructors, \"Dave isn't in the instructor list!\"\n",
    "if not 'Dave' in instructors:\n",
    "    raise AssertionError(\"Dave isn't in the instructor list!\")\n",
    "```\n",
    "\n",
    "#### Questions?\n"
   ]
  },
  {
   "cell_type": "code",
   "execution_count": null,
   "metadata": {
    "collapsed": true
   },
   "outputs": [],
   "source": []
  },
  {
   "cell_type": "markdown",
   "metadata": {},
   "source": [
    "### All of this was in preparation for some testing...\n",
    "\n",
    "Can we write some quick tests that make sure our code is doing what we think it is?  Something of the form:\n",
    "\n",
    "```\n",
    "corr_matrix = pairwise_row_correlations(my_sample_dataframe)\n",
    "assert corr_matrix looks like what we expect, \"The function is broken!\"\n",
    "```\n",
    "\n",
    "What are the smallest units of code that we can test?"
   ]
  },
  {
   "cell_type": "markdown",
   "metadata": {},
   "source": []
  },
  {
   "cell_type": "markdown",
   "metadata": {},
   "source": [
    "What asserts can we make for these pieces of code?"
   ]
  },
  {
   "cell_type": "markdown",
   "metadata": {},
   "source": []
  },
  {
   "cell_type": "markdown",
   "metadata": {},
   "source": [
    "#### Remember, in computers, 1.0 does not necessarily = 1\n",
    "\n",
    "Put the following in an empty cell:\n",
    "```\n",
    ".99999999999999999999\n",
    "```\n",
    "\n",
    "How can we test for two floating point numbers being (almost) equal? Pro tip:  [Google!](http://lmgtfy.com/?q=python+assert+almost+equal)\n"
   ]
  },
  {
   "cell_type": "code",
   "execution_count": 57,
   "metadata": {
    "collapsed": false
   },
   "outputs": [
    {
     "data": {
      "text/plain": [
       "1.0"
      ]
     },
     "execution_count": 57,
     "metadata": {},
     "output_type": "execute_result"
    }
   ],
   "source": [
    ".99999999999999999999"
   ]
  },
  {
   "cell_type": "code",
   "execution_count": null,
   "metadata": {
    "collapsed": false
   },
   "outputs": [],
   "source": [
    "assert pairwise_correlation(df) = [[],[],[]], \"function is broken\""
   ]
  },
  {
   "cell_type": "code",
   "execution_count": 37,
   "metadata": {
    "collapsed": true
   },
   "outputs": [],
   "source": [
    "def row_i_to_row_j(row_i, row_j):\n",
    "    \"\"\"docstring goes here\"\"\"\n",
    "    return row_i.corr(row_j)\n",
    "\n",
    "def row_i_to_all_rows(df, index_i, row_i, metric):\n",
    "    \"\"\"docstring goes here\"\"\"\n",
    "    for index_j, row_j in df.iterrows():\n",
    "        # use special features of the matrix\n",
    "        if index_j < index_i:\n",
    "            continue\n",
    "        elif index_i == index_j:\n",
    "            metric.loc[index_i, index_j] = 1\n",
    "        else:\n",
    "            metric.loc[index_i, index_j] = row_i_to_row_j(row_i, row_j)\n",
    "            metric.loc[index_j, index_i] = metric.loc[index_i, index_j]\n",
    "    return \n",
    "\n",
    "def pairwise_correlation(df):\n",
    "    \"\"\"docstring goes here\"\"\"\n",
    "    metric = pd.DataFrame()\n",
    "    for index_i, row_i in df.iterrows():\n",
    "        row_i_to_all_rows(df, index_i, row_i, metric)\n",
    "    return metric"
   ]
  },
  {
   "cell_type": "code",
   "execution_count": 65,
   "metadata": {
    "collapsed": false
   },
   "outputs": [],
   "source": [
    "import pandas as pd\n",
    "\n",
    "def test_row_i_to_row_j():\n",
    "    df = pd.DataFrame([[-1, 0, 1], [1, 0, -1], [.5, 0, .5]])\n",
    "    A = df.loc[0]\n",
    "    B = df.loc[1]\n",
    "    C = df.loc[2]\n",
    "    assert int(row_i_to_row_j(A, A)) == 1, \"Diagonal elements not handled properly\"\n",
    "    assert int(row_i_to_row_j(A, B)) == -1, \"Anticorrelated elements not handled properly\"\n",
    "    assert int(row_i_to_row_j(A, C)) == 0, \"Uncorrelated elements not handled properly\"\n",
    "    return"
   ]
  },
  {
   "cell_type": "code",
   "execution_count": 66,
   "metadata": {
    "collapsed": false
   },
   "outputs": [],
   "source": [
    "test_row_i_to_row_j()"
   ]
  },
  {
   "cell_type": "code",
   "execution_count": 42,
   "metadata": {
    "collapsed": false
   },
   "outputs": [
    {
     "data": {
      "text/plain": [
       "nan"
      ]
     },
     "execution_count": 42,
     "metadata": {},
     "output_type": "execute_result"
    }
   ],
   "source": [
    "row_i_to_row_j(df[0], df[1])\n"
   ]
  },
  {
   "cell_type": "code",
   "execution_count": 51,
   "metadata": {
    "collapsed": false
   },
   "outputs": [
    {
     "data": {
      "text/plain": [
       "0   -1.0\n",
       "1    1.0\n",
       "2    0.5\n",
       "Name: 0, dtype: float64"
      ]
     },
     "execution_count": 51,
     "metadata": {},
     "output_type": "execute_result"
    }
   ],
   "source": [
    "df[0]"
   ]
  },
  {
   "cell_type": "code",
   "execution_count": 46,
   "metadata": {
    "collapsed": false
   },
   "outputs": [
    {
     "data": {
      "text/plain": [
       "pandas.core.series.Series"
      ]
     },
     "execution_count": 46,
     "metadata": {},
     "output_type": "execute_result"
    }
   ],
   "source": [
    "type(df.loc[0])"
   ]
  },
  {
   "cell_type": "code",
   "execution_count": 50,
   "metadata": {
    "collapsed": false
   },
   "outputs": [
    {
     "data": {
      "text/plain": [
       "-1.0"
      ]
     },
     "execution_count": 50,
     "metadata": {},
     "output_type": "execute_result"
    }
   ],
   "source": [
    "df.loc[0].corr(df.loc[1])"
   ]
  },
  {
   "cell_type": "markdown",
   "metadata": {},
   "source": [
    "### Put our tests in a `.py` file\n",
    "\n",
    "Copy the code for our `test_` prefixed functions to a file, e.g. `tests.py`\n",
    "\n",
    "Run the tests with `nosetest`.\n",
    "\n",
    "You can even do it in your notebook (not recommended):\n",
    "    \n",
    "```\n",
    "%%bash\n",
    "nosetests\n",
    "```"
   ]
  },
  {
   "cell_type": "code",
   "execution_count": 38,
   "metadata": {
    "collapsed": false
   },
   "outputs": [
    {
     "data": {
      "text/plain": [
       "pandas.core.series.Series"
      ]
     },
     "execution_count": 38,
     "metadata": {},
     "output_type": "execute_result"
    }
   ],
   "source": []
  },
  {
   "cell_type": "code",
   "execution_count": null,
   "metadata": {
    "collapsed": true
   },
   "outputs": [],
   "source": []
  },
  {
   "cell_type": "code",
   "execution_count": null,
   "metadata": {
    "collapsed": true
   },
   "outputs": [],
   "source": []
  },
  {
   "cell_type": "markdown",
   "metadata": {},
   "source": [
    "## From nothing to something wrap up\n",
    "\n",
    "Here we created some functions from just a short description of our needs.  \n",
    "* Before we wrote any code, we walked through the flow control and decided on the parts that were necessary.\n",
    "* Before we wrote any code, we created a simple test example with simple predictable output.\n",
    "* We wrote some code according to our specifications.\n",
    "* We wrote tests using ``assert`` to verify our code against the simple test example.\n",
    "* Tests go into a `.py` file and are have function names prefixed with `test_`\n",
    "* We run tests with `nosetests` which can be `pip install nosetests` installed.\n",
    "\n",
    "### QUESTIONS?"
   ]
  },
  {
   "cell_type": "code",
   "execution_count": null,
   "metadata": {
    "collapsed": true
   },
   "outputs": [],
   "source": []
  }
 ],
 "metadata": {
  "kernelspec": {
   "display_name": "Python 3",
   "language": "python",
   "name": "python3"
  },
  "language_info": {
   "codemirror_mode": {
    "name": "ipython",
    "version": 3
   },
   "file_extension": ".py",
   "mimetype": "text/x-python",
   "name": "python",
   "nbconvert_exporter": "python",
   "pygments_lexer": "ipython3",
   "version": "3.5.1"
  }
 },
 "nbformat": 4,
 "nbformat_minor": 0
}
