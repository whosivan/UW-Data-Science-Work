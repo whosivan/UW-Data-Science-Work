{
 "cells": [
  {
   "cell_type": "code",
   "execution_count": 1,
   "metadata": {
    "collapsed": false
   },
   "outputs": [],
   "source": [
    "# load your software stack\n",
    "import numpy as np\n",
    "import matplotlib.pyplot as plt\n",
    "import pandas as pd \n",
    "%matplotlib inline"
   ]
  },
  {
   "cell_type": "code",
   "execution_count": 4,
   "metadata": {
    "collapsed": false
   },
   "outputs": [
    {
     "name": "stdout",
     "output_type": "stream",
     "text": [
      "               data\n",
      "count  1.000000e+07\n",
      "mean   1.637918e+04\n",
      "std    9.460433e+03\n",
      "min    0.000000e+00\n",
      "25%    8.186000e+03\n",
      "50%    1.637500e+04\n",
      "75%    2.457900e+04\n",
      "max    3.276700e+04\n"
     ]
    },
    {
     "data": {
      "image/png": "[encoded data removed]",
      "text/plain": [
       "<matplotlib.figure.Figure at 0x10e14d860>"
      ]
     },
     "metadata": {},
     "output_type": "display_data"
    }
   ],
   "source": [
    "# read the data in, describe it, and plot a histogram of the data \n",
    "# the data are integers \n",
    "mypop=pd.read_csv('mypopulation.dat',names=['data'])\n",
    "print (mypop.describe())\n",
    "plt.hist(mypop.data,bins=100,normed=False);"
   ]
  },
  {
   "cell_type": "markdown",
   "metadata": {},
   "source": [
    "### This data is the so-called \"uniform distribution\" \n",
    "\n",
    "1) What is the probability of drawing the number 5000?  \n",
    "2) How much of the range is covered by the standard deviation?  \n",
    "3) The uniform distribution has a standard deviation of: $\\sigma = \\sqrt{\\frac{(MAX-MIN)^2}{12}}$ , how close is our data to this value?  \n",
    "4) The analytical answer to question 3 is: $\\frac{1}{\\sqrt{12}}$?  "
   ]
  },
  {
   "cell_type": "code",
   "execution_count": 6,
   "metadata": {
    "collapsed": false
   },
   "outputs": [
    {
     "name": "stdout",
     "output_type": "stream",
     "text": [
      "3.0518509476e-05\n",
      "\n",
      "0.288718308682\n",
      "\n",
      "9459.01813527\n",
      "9460.43282059\n",
      "\n",
      "0.288675134595\n"
     ]
    }
   ],
   "source": [
    "print (1.0/(mypop.data.max()-mypop.data.min()))\n",
    "print ()\n",
    "print (mypop.data.std()/(mypop.data.max()-mypop.data.min()))\n",
    "print ()\n",
    "print (np.sqrt(np.power(mypop.data.max(),2)/12))\n",
    "print (mypop.data.std())\n",
    "print ()\n",
    "print (1/np.sqrt(12))\n",
    "\n",
    "# if you get an error output of this cell - it may be your Python is not compatible with: print \"\""
   ]
  },
  {
   "cell_type": "markdown",
   "metadata": {},
   "source": [
    "### A \"real world\" scenario\n",
    "\n",
    "* You are conducting experiments that measure data. The data are a _sample_ that come from the _population_ represented in the array `mypop.data`\n",
    "* Your goal is to estimate properties of the _population_ by taking _samples_ , you will start by estimating the population mean \n",
    "* You can control the sample `size`, i.e., how many points you collect in a given experiment \n",
    "* You can also control the number of experiments `samples`, i.e., how many experiments you conduct \n",
    "\n",
    "### To do: \n",
    "* Change the size and # samples and study the output and look for any trends.  \n",
    "    * Before you go crazy, I suggest being systematic, changing 1 variable at a time \n",
    "    * I also suggest you don't exceed a 1,0000,000 as the product of the `size x samples`\n",
    "* Be exploratory - look for trends and try and understand what is happening \n",
    "    * If you want to see multiple `trials` just hit shift-enter and re-execute the same cell \n",
    "\n",
    "### Before you run the next cell, please take a moment to make a prediction about what will happen! \n",
    "\n",
    "#### Big picture: you are randomly sampling a set of 10,000,000 uniform random integers. What do you expect the distribution of sample means to look like? \n",
    "\n",
    "#### My prediction is:  << fill here >>\n",
    "\n"
   ]
  },
  {
   "cell_type": "code",
   "execution_count": 17,
   "metadata": {
    "collapsed": false
   },
   "outputs": [
    {
     "name": "stdout",
     "output_type": "stream",
     "text": [
      "data    7.395244\n",
      "dtype: float64\n",
      "data    0.000452\n",
      "dtype: float64\n"
     ]
    },
    {
     "data": {
      "image/png": "[encoded data removed]",
      "text/plain": [
       "<matplotlib.figure.Figure at 0x10a8f0198>"
      ]
     },
     "metadata": {},
     "output_type": "display_data"
    }
   ],
   "source": [
    "#you can control these\n",
    "\n",
    "#how many data points you collect in each experiment\n",
    "size=30\n",
    "# how many experiments will you run \n",
    "samples=100000\n",
    "\n",
    "#analysis of your data - you can ignore for now but what is happening is commented below\n",
    "\n",
    "# initalize a vector of zeros that is of length of your # of samples\n",
    "means = np.zeros(samples)\n",
    "\n",
    "# iterate over the vector (currently all zeros), iterate in a way that \n",
    "# makes each element writeable (this is not standard but convenient for our purpose)\n",
    "# the total number of iterations is the total number of samples (experiments) performed\n",
    "for x in np.nditer(means, op_flags=['readwrite']):\n",
    "    #take your data: this means you are randomly sampling the global population taking `size` points\n",
    "    data2=np.random.choice(mypop.data,size=size)\n",
    "    # update item x (this the ith experiment) with the sample mean\n",
    "    x[...]=np.mean(data2)\n",
    "    \n",
    "#plot the histogram of your experiments \n",
    "plt.hist(means,range=[mypop.data.min(),mypop.data.max()],bins=100)\n",
    "\n",
    "#print the absolute differnece between the population mean (mu) and average of all your experimental data (xbar)\n",
    "print (np.abs(mypop.mean()-means.mean()))\n",
    "#print the relative diff (mu-xbar)/mu\n",
    "print (np.abs((mypop.mean()-means.mean()))/mypop.mean())"
   ]
  },
  {
   "cell_type": "code",
   "execution_count": 22,
   "metadata": {
    "collapsed": false
   },
   "outputs": [
    {
     "name": "stdout",
     "output_type": "stream",
     "text": [
      "[ 3.18105514  8.081437    2.27916543  0.06998134  2.30110522  6.05887626\n",
      "  0.59592144  5.56522389  9.54366855  1.42617489]\n",
      "[  0.   2.   4.   6.   8.  10.] [3 3 1 1 2]\n"
     ]
    }
   ],
   "source": [
    "minirand=np.random.uniform(low=0,high=10,size=10)\n",
    "print(minirand)\n",
    "[hist,bins]=np.histogram(minirand, range=(0,10),bins=5)\n",
    "print(bins, hist)\n",
    "# the choice of bins can significantly change how the histogram looks\n",
    "# it is a terrible idea to let the computer pick parameters for you without any input"
   ]
  },
  {
   "cell_type": "code",
   "execution_count": 29,
   "metadata": {
    "collapsed": false
   },
   "outputs": [
    {
     "ename": "NameError",
     "evalue": "name 'mu_values' is not defined",
     "output_type": "error",
     "traceback": [
      "\u001b[0;31m---------------------------------------------------------------------------\u001b[0m",
      "\u001b[0;31mNameError\u001b[0m                                 Traceback (most recent call last)",
      "\u001b[0;32m<ipython-input-29-97cb82ec6881>\u001b[0m in \u001b[0;36m<module>\u001b[0;34m()\u001b[0m\n\u001b[1;32m      3\u001b[0m \u001b[0;34m\u001b[0m\u001b[0m\n\u001b[1;32m      4\u001b[0m \u001b[0mmu\u001b[0m\u001b[0;34m=\u001b[0m\u001b[0;34m[\u001b[0m\u001b[0;36m1\u001b[0m\u001b[0;34m,\u001b[0m \u001b[0;36m4\u001b[0m\u001b[0;34m,\u001b[0m \u001b[0;36m10\u001b[0m\u001b[0;34m]\u001b[0m\u001b[0;34m\u001b[0m\u001b[0m\n\u001b[0;32m----> 5\u001b[0;31m \u001b[0;32mfor\u001b[0m \u001b[0mmu\u001b[0m\u001b[0;34m,\u001b[0m \u001b[0mls\u001b[0m \u001b[0;32min\u001b[0m \u001b[0mzip\u001b[0m\u001b[0;34m(\u001b[0m\u001b[0mmu_values\u001b[0m\u001b[0;34m,\u001b[0m \u001b[0mlinestyales\u001b[0m\u001b[0;34m)\u001b[0m\u001b[0;34m:\u001b[0m\u001b[0;34m\u001b[0m\u001b[0m\n\u001b[0m\u001b[1;32m      6\u001b[0m     \u001b[0mdist\u001b[0m\u001b[0;34m=\u001b[0m\u001b[0mpoisson\u001b[0m\u001b[0;34m(\u001b[0m\u001b[0mmu\u001b[0m\u001b[0;34m)\u001b[0m\u001b[0;34m\u001b[0m\u001b[0m\n\u001b[1;32m      7\u001b[0m     \u001b[0mx\u001b[0m\u001b[0;34m=\u001b[0m\u001b[0mnp\u001b[0m\u001b[0;34m.\u001b[0m\u001b[0marange\u001b[0m \u001b[0;34m(\u001b[0m\u001b[0;34m-\u001b[0m\u001b[0;36m1\u001b[0m\u001b[0;34m,\u001b[0m \u001b[0;36m200\u001b[0m\u001b[0;34m)\u001b[0m\u001b[0;34m\u001b[0m\u001b[0m\n",
      "\u001b[0;31mNameError\u001b[0m: name 'mu_values' is not defined"
     ]
    }
   ],
   "source": [
    "from scipy.stats import poisson\n",
    "import matplotlib.pyplot as plt\n",
    "\n",
    "mu=[1, 4, 10]\n",
    "for mu, ls in zip(mu_values, linestyales):\n",
    "    dist=poisson(mu)\n",
    "    x=np.arange (-1, 200)\n",
    "\n",
    "plt.plot(x,dist.pmf(x),\n",
    "        label=r'$\\mu=%i$' %mu, linestyle='steps-mid')\n",
    "\n",
    "plt.xlim(-0.5,30)\n",
    "plt.ylim(0,0.4)\n",
    "\n",
    "plt.xlabel('$x$')\n",
    "plt.ylabel(r'$p(x|\\mu)$')\n",
    "plt.title('Poisson Distribution')\n",
    "\n",
    "plt.legend()\n",
    "plt.show()"
   ]
  },
  {
   "cell_type": "code",
   "execution_count": null,
   "metadata": {
    "collapsed": true
   },
   "outputs": [],
   "source": []
  }
 ],
 "metadata": {
  "anaconda-cloud": {},
  "kernelspec": {
   "display_name": "Python [conda root]",
   "language": "python",
   "name": "conda-root-py"
  },
  "language_info": {
   "codemirror_mode": {
    "name": "ipython",
    "version": 3
   },
   "file_extension": ".py",
   "mimetype": "text/x-python",
   "name": "python",
   "nbconvert_exporter": "python",
   "pygments_lexer": "ipython3",
   "version": "3.5.2"
  }
 },
 "nbformat": 4,
 "nbformat_minor": 1
}
