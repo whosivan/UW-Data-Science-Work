{
 "cells": [
  {
   "cell_type": "code",
   "execution_count": 2,
   "metadata": {
    "collapsed": false
   },
   "outputs": [],
   "source": [
    "from scipy import stats\n",
    "import numpy as np\n",
    "import pandas as pd"
   ]
  },
  {
   "cell_type": "code",
   "execution_count": 3,
   "metadata": {
    "collapsed": false
   },
   "outputs": [
    {
     "name": "stdout",
     "output_type": "stream",
     "text": [
      "[  9.99997753  10.00012654]\n",
      "10.0000520376\n",
      "0.000105368312779\n",
      "7.45066484882e-05\n"
     ]
    }
   ],
   "source": [
    "# We will draw numbers from a random normal distribution\n",
    "mymean = 10\n",
    "mystd = 0.00005\n",
    "myN = 2\n",
    "\n",
    "# Set the random number seed the same\n",
    "# np.random.seed(12345)\n",
    "\n",
    "myrand=np.random.normal(loc=mymean, scale=mystd, size=myN)\n",
    "\n",
    "print (myrand)\n",
    "print (myrand.mean())\n",
    "print (myrand.std(ddof=1))\n",
    "print (stats.sem(myrand,ddof=1))"
   ]
  },
  {
   "cell_type": "code",
   "execution_count": 4,
   "metadata": {
    "collapsed": false
   },
   "outputs": [
    {
     "name": "stdout",
     "output_type": "stream",
     "text": [
      "0.698428636553\n"
     ]
    }
   ],
   "source": [
    "t = (myrand.mean()-mymean)/stats.sem(myrand)\n",
    "print (t)"
   ]
  },
  {
   "cell_type": "code",
   "execution_count": 5,
   "metadata": {
    "collapsed": false
   },
   "outputs": [
    {
     "data": {
      "text/plain": [
       "0.61187165456803849"
      ]
     },
     "execution_count": 5,
     "metadata": {},
     "output_type": "execute_result"
    }
   ],
   "source": [
    "# the function stats.t.sf is the loopup value - given a t-score it will provide you the 1-sided p-value.\n",
    "# Feed the abs value of t-score and multiply by 2 to obtain the standard 2-side p-value.    \n",
    "# stats.t.sf(abs value of t, d.o.f)\n",
    "stats.t.sf(np.abs(t),myrand.size-1)*2"
   ]
  },
  {
   "cell_type": "code",
   "execution_count": 6,
   "metadata": {
    "collapsed": false
   },
   "outputs": [
    {
     "data": {
      "text/plain": [
       "Ttest_1sampResult(statistic=0.6984286365530824, pvalue=0.61187165456803849)"
      ]
     },
     "execution_count": 6,
     "metadata": {},
     "output_type": "execute_result"
    }
   ],
   "source": [
    "# you can also just use this function to directly output the t/p values\n",
    "stats.ttest_1samp(myrand,mymean)"
   ]
  },
  {
   "cell_type": "code",
   "execution_count": 7,
   "metadata": {
    "collapsed": false
   },
   "outputs": [
    {
     "name": "stdout",
     "output_type": "stream",
     "text": [
      "0.698428636553 0.611871654568\n"
     ]
    }
   ],
   "source": [
    "# and this is how you store the output in two separate variables.\n",
    "[tcalc,p]=stats.ttest_1samp(myrand,mymean)\n",
    "print (tcalc,p)"
   ]
  },
  {
   "cell_type": "code",
   "execution_count": 10,
   "metadata": {
    "collapsed": false
   },
   "outputs": [
    {
     "data": {
      "text/plain": [
       "12.706204736432095"
      ]
     },
     "execution_count": 10,
     "metadata": {},
     "output_type": "execute_result"
    }
   ],
   "source": [
    "## Inverse lookup of critial t value at P=0.04 (2-sided for our system above\n",
    "tcrit = stats.t.ppf(1-0.025,myN-1)\n",
    "tcrit"
   ]
  },
  {
   "cell_type": "code",
   "execution_count": 11,
   "metadata": {
    "collapsed": false
   },
   "outputs": [
    {
     "data": {
      "text/plain": [
       "0.00094669672991621657"
      ]
     },
     "execution_count": 11,
     "metadata": {},
     "output_type": "execute_result"
    }
   ],
   "source": [
    "## Calculation of the 95% CI with above formula\n",
    "my95CI = stats.sem(myrand)*tcrit\n",
    "my95CI"
   ]
  },
  {
   "cell_type": "code",
   "execution_count": 12,
   "metadata": {
    "collapsed": false
   },
   "outputs": [
    {
     "name": "stdout",
     "output_type": "stream",
     "text": [
      "9.99910534085 10.0009987343\n",
      "0.000946696729915\n"
     ]
    }
   ],
   "source": [
    "## we can use a python stats tool to do this dirty work for us\n",
    "## usage:\n",
    "## stats.t.interval($CI, d.o.f., loc=mean, scale=sem)\n",
    "## the output are the Lower and Upper bounds of the 95% CI.\n",
    "[L,U] = stats.t.interval(0.95,myN-1,loc=myrand.mean(),scale=stats.sem(myrand))\n",
    "print(L,U)\n",
    "print((U-L)/2)"
   ]
  },
  {
   "cell_type": "code",
   "execution_count": 13,
   "metadata": {
    "collapsed": false
   },
   "outputs": [
    {
     "name": "stdout",
     "output_type": "stream",
     "text": [
      "9.99910534085\n",
      "9.99910534085\n"
     ]
    }
   ],
   "source": [
    "## Let me convince you mt hand calc matches the stats tool\n",
    "print (myrand.mean()-(U-L)/2)\n",
    "print (myrand.mean()-my95CI)"
   ]
  },
  {
   "cell_type": "code",
   "execution_count": null,
   "metadata": {
    "collapsed": true
   },
   "outputs": [],
   "source": []
  }
 ],
 "metadata": {
  "anaconda-cloud": {},
  "kernelspec": {
   "display_name": "Python [default]",
   "language": "python",
   "name": "python3"
  },
  "language_info": {
   "codemirror_mode": {
    "name": "ipython",
    "version": 3
   },
   "file_extension": ".py",
   "mimetype": "text/x-python",
   "name": "python",
   "nbconvert_exporter": "python",
   "pygments_lexer": "ipython3",
   "version": "3.5.2"
  }
 },
 "nbformat": 4,
 "nbformat_minor": 2
}
