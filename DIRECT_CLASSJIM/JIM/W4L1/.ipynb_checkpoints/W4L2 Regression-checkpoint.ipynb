{
 "cells": [
  {
   "cell_type": "code",
   "execution_count": 1,
   "metadata": {
    "collapsed": false
   },
   "outputs": [],
   "source": [
    "import numpy as np\n",
    "from scipy import stats\n",
    "import pandas as pd \n",
    "import matplotlib.pyplot as plt "
   ]
  },
  {
   "cell_type": "markdown",
   "metadata": {},
   "source": [
    "### Regression example\n",
    "\n",
    "\n",
    "$Y=\\theta_1*X_1+\\theta_2*X_2+\\theta_3*X_1*X_2 $ "
   ]
  },
  {
   "cell_type": "code",
   "execution_count": 2,
   "metadata": {
    "collapsed": true
   },
   "outputs": [],
   "source": [
    "#So we can all get the same results\n",
    "np.random.seed(3456)\n",
    "#Range of Xdata\n",
    "Xdata=np.zeros((200,2))\n",
    "Xdata[:,0]=np.linspace(0,200,200)\n",
    "Xdata[:,1]=np.linspace(-25,25,200)\n",
    "#coefficients\n",
    "T1a=2.5\n",
    "T2a=-1.5\n",
    "T3a=0.34\n",
    "\n",
    "#define your function\n",
    "def mycoolfun(Xdata,T1,T2,T3):\n",
    "    return Xdata[:,0]*T1+Xdata[:,1]*T2+Xdata[:,0]*Xdata[:,1]*T3"
   ]
  },
  {
   "cell_type": "code",
   "execution_count": null,
   "metadata": {
    "collapsed": false
   },
   "outputs": [],
   "source": [
    "# generate some random data \n",
    "MRD=mycoolfun(Xdata,T1a,T2a,T3a) + 50.0 * np.random.normal(size=len(Xdata))\n",
    "\n",
    "# plot the actual function Y generated w/T1-T3a and the random data\n",
    "# on top \n",
    "%matplotlib inline\n",
    "plt.plot(Xdata[:,0],mycoolfun(Xdata,T1a,T2a,T3a),lw=2)\n",
    "plt.xlabel('X1')\n",
    "plt.ylabel('Y')\n",
    "plt.scatter(Xdata[:,0],MRD,color='red')"
   ]
  },
  {
   "cell_type": "code",
   "execution_count": null,
   "metadata": {
    "collapsed": false
   },
   "outputs": [],
   "source": [
    "# call the curve fit function from scipy \n",
    "from scipy.optimize import curve_fit\n",
    "[coeff,pcov]=curve_fit(mycoolfun,Xdata,MRD)\n",
    "# ^ can you succinctly say what this is doing?            \n",
    "    \n",
    "    \n",
    "# what am I printing here? \n",
    "print (coeff)\n",
    "print (T1a,T2a,T3a)"
   ]
  },
  {
   "cell_type": "code",
   "execution_count": null,
   "metadata": {
    "collapsed": false
   },
   "outputs": [],
   "source": [
    "%matplotlib inline\n",
    "plt.figure(figsize=(4,10))\n",
    "plt.subplot(311)\n",
    "plt.plot(Xdata[:,0],mycoolfun(Xdata,coeff[0],coeff[1],coeff[2]),lw=2,color='green')\n",
    "plt.xlabel('X1')\n",
    "plt.ylabel('Y')\n",
    "plt.scatter(Xdata[:,0],MRD,color='red')\n",
    "plt.subplot(312)\n",
    "plt.scatter(Xdata[:,0],mycoolfun(Xdata,coeff[0],coeff[1],coeff[2])-MRD)\n",
    "plt.subplot(313)\n",
    "plt.hist(mycoolfun(Xdata,coeff[0],coeff[1],coeff[2])-MRD)\n",
    "\n"
   ]
  },
  {
   "cell_type": "code",
   "execution_count": null,
   "metadata": {
    "collapsed": true
   },
   "outputs": [],
   "source": []
  }
 ],
 "metadata": {
  "anaconda-cloud": {},
  "kernelspec": {
   "display_name": "Python [conda root]",
   "language": "python",
   "name": "conda-root-py"
  },
  "language_info": {
   "codemirror_mode": {
    "name": "ipython",
    "version": 3
   },
   "file_extension": ".py",
   "mimetype": "text/x-python",
   "name": "python",
   "nbconvert_exporter": "python",
   "pygments_lexer": "ipython3",
   "version": "3.5.2"
  }
 },
 "nbformat": 4,
 "nbformat_minor": 1
}
