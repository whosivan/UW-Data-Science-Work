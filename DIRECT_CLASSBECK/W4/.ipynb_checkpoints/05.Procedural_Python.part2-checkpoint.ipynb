{
 "cells": [
  {
   "cell_type": "markdown",
   "metadata": {},
   "source": [
    "# Procedural programming in python\n",
    "\n",
    "## Topics\n",
    "\n",
    "* Flow control, part 2\n",
    " * Functions\n",
    " * In class exercise:\n",
    "   * Functionalize this!\n",
    " * From nothing to something:\n",
    "   * Pairwise correlation between rows in a pandas dataframe\n",
    "   * Sketch of the process\n",
    "   * In class exercise:\n",
    "     * Write the code!\n",
    "   * Rejoining, sharing ideas, problems, thoughts"
   ]
  },
  {
   "cell_type": "markdown",
   "metadata": {},
   "source": [
    "<hr>"
   ]
  },
  {
   "cell_type": "markdown",
   "metadata": {},
   "source": [
    "<hr>\n",
    "## Flow control\n",
    "\n",
    "<img src=\"https://docs.oracle.com/cd/B19306_01/appdev.102/b14261/lnpls008.gif\">Flow control figure</img>\n",
    "\n",
    "Flow control refers how to programs do loops, conditional execution, and order of functional operations.  "
   ]
  },
  {
   "cell_type": "markdown",
   "metadata": {},
   "source": [
    "### If\n",
    "If statements can be use to execute some lines or block of code if a particular condition is satisfied.  E.g. Let's print something based on the entries in the list."
   ]
  },
  {
   "cell_type": "code",
   "execution_count": null,
   "metadata": {
    "collapsed": false
   },
   "outputs": [],
   "source": [
    "instructors = ['Dave', 'Jim', 'Dorkus the Clown']\n",
    "\n",
    "if 'Dorkus the Clown' in instructors:\n",
    "    print('#fakeinstructor')"
   ]
  },
  {
   "cell_type": "markdown",
   "metadata": {},
   "source": [
    "There is a special do nothing word: `pass` that skips over some arm of a conditional, e.g."
   ]
  },
  {
   "cell_type": "code",
   "execution_count": null,
   "metadata": {
    "collapsed": false
   },
   "outputs": [],
   "source": [
    "if 'Jim' in instructors:\n",
    "    print(\"Congratulations!  Jim is teaching, your class won't stink!\")\n",
    "else:\n",
    "    pass"
   ]
  },
  {
   "cell_type": "markdown",
   "metadata": {},
   "source": [
    "## For\n",
    "\n",
    "For loops are the standard loop, though `while` is also common.  For has the general form:\n",
    "```\n",
    "for items in list:\n",
    "    do stuff\n",
    "```\n",
    "\n",
    "For loops and collections like tuples, lists and dictionaries are natural friends."
   ]
  },
  {
   "cell_type": "code",
   "execution_count": null,
   "metadata": {
    "collapsed": false
   },
   "outputs": [],
   "source": [
    "for instructor in instructors:\n",
    "    print(instructor)"
   ]
  },
  {
   "cell_type": "markdown",
   "metadata": {},
   "source": [
    "You can combine loops and conditionals:"
   ]
  },
  {
   "cell_type": "code",
   "execution_count": null,
   "metadata": {
    "collapsed": false
   },
   "outputs": [],
   "source": [
    "for instructor in instructors:\n",
    "    if instructor.endswith('Clown'):\n",
    "        print(instructor + \" doesn't sound like a real instructor name!\")\n",
    "    else:\n",
    "        print(instructor + \" is so smart... all those gooey brains!\")"
   ]
  },
  {
   "cell_type": "markdown",
   "metadata": {},
   "source": [
    "### range()\n",
    "\n",
    "Since for operates over lists, it is common to want to do something like:\n",
    "```\n",
    "NOTE: C-like\n",
    "for (i = 0; i < 3; ++i) {\n",
    "    print(i);\n",
    "}\n",
    "```\n",
    "\n",
    "The Python equivalent is:\n",
    "\n",
    "```\n",
    "for i in [0, 1, 2]:\n",
    "    do something with i\n",
    "```\n",
    "\n",
    "What happens when the range you want to sample is big, e.g.\n",
    "```\n",
    "NOTE: C-like\n",
    "for (i = 0; i < 1000000000; ++i) {\n",
    "    print(i);\n",
    "}\n",
    "```\n",
    "\n",
    "That would be a real pain in the rear to have to write out the entire list from 1 to 1000000000.\n",
    "\n",
    "Enter, the `range()` function.  E.g.\n",
    " ```range(3) is [0, 1, 2]```"
   ]
  },
  {
   "cell_type": "code",
   "execution_count": null,
   "metadata": {
    "collapsed": false
   },
   "outputs": [],
   "source": [
    "sum = 0\n",
    "for i in range(10):\n",
    "    sum += i\n",
    "print(sum)"
   ]
  },
  {
   "cell_type": "code",
   "execution_count": null,
   "metadata": {
    "collapsed": false
   },
   "outputs": [],
   "source": [
    "data.head()"
   ]
  },
  {
   "cell_type": "markdown",
   "metadata": {},
   "source": [
    "### Now, use your code from above for the following URLs and filenames\n",
    "\n",
    "| URL | filename | csv_filename |\n",
    "|-----|----------|--------------|\n",
    "| http://faculty.washington.edu/dacb/HCEPDB_moldata_set1.zip | HCEPDB_moldata_set1.zip | HCEPDB_moldata_set1.csv |\n",
    "| http://faculty.washington.edu/dacb/HCEPDB_moldata_set2.zip | HCEPDB_moldata_set2.zip | HCEPDB_moldata_set2.csv |\n",
    "| http://faculty.washington.edu/dacb/HCEPDB_moldata_set3.zip | HCEPDB_moldata_set3.zip | HCEPDB_moldata_set3.csv |\n",
    "\n",
    "What pieces of the data structures and flow control that we talked about earlier can you use?"
   ]
  },
  {
   "cell_type": "code",
   "execution_count": null,
   "metadata": {
    "collapsed": true
   },
   "outputs": [],
   "source": []
  },
  {
   "cell_type": "code",
   "execution_count": null,
   "metadata": {
    "collapsed": true
   },
   "outputs": [],
   "source": []
  },
  {
   "cell_type": "code",
   "execution_count": null,
   "metadata": {
    "collapsed": true
   },
   "outputs": [],
   "source": []
  },
  {
   "cell_type": "code",
   "execution_count": null,
   "metadata": {
    "collapsed": true
   },
   "outputs": [],
   "source": []
  },
  {
   "cell_type": "code",
   "execution_count": null,
   "metadata": {
    "collapsed": true
   },
   "outputs": [],
   "source": []
  },
  {
   "cell_type": "code",
   "execution_count": null,
   "metadata": {
    "collapsed": true
   },
   "outputs": [],
   "source": []
  },
  {
   "cell_type": "code",
   "execution_count": null,
   "metadata": {
    "collapsed": true
   },
   "outputs": [],
   "source": []
  },
  {
   "cell_type": "code",
   "execution_count": null,
   "metadata": {
    "collapsed": true
   },
   "outputs": [],
   "source": []
  },
  {
   "cell_type": "markdown",
   "metadata": {},
   "source": [
    "How did you solve this problem?"
   ]
  },
  {
   "cell_type": "markdown",
   "metadata": {},
   "source": []
  },
  {
   "cell_type": "markdown",
   "metadata": {},
   "source": [
    "<hr>"
   ]
  },
  {
   "cell_type": "markdown",
   "metadata": {},
   "source": [
    "### Functions\n",
    "\n",
    "For loops let you repeat some code for every item in a list.  Functions are similar in that they run the same lines of code for new values of some variable.  They are different in that functions are not limited to looping over items.\n",
    "\n",
    "Functions are a critical part of writing easy to read, reusable code.\n",
    "\n",
    "Create a function like:\n",
    "```\n",
    "def function_name (parameters):\n",
    "    \"\"\"\n",
    "    optional docstring\n",
    "    \"\"\"\n",
    "    function expressions\n",
    "    return [variable]\n",
    "```\n",
    "\n",
    "_Note:_ Sometimes I use the word argument in place of parameter.\n",
    "\n",
    "Here is a simple example.  It prints a string that was passed in and returns nothing."
   ]
  },
  {
   "cell_type": "code",
   "execution_count": null,
   "metadata": {
    "collapsed": true
   },
   "outputs": [],
   "source": [
    "def print_string(str):\n",
    "    \"\"\"This prints out a string passed as the parameter.\"\"\"\n",
    "    print(str)\n",
    "    return"
   ]
  },
  {
   "cell_type": "markdown",
   "metadata": {},
   "source": [
    "To call the function, use:\n",
    "```\n",
    "print_string(\"Dave is awesome!\")\n",
    "```\n",
    "\n",
    "_Note:_ The function has to be defined before you can call it!"
   ]
  },
  {
   "cell_type": "code",
   "execution_count": null,
   "metadata": {
    "collapsed": false
   },
   "outputs": [],
   "source": [
    "print_string(\"Dave is awesome!\")"
   ]
  },
  {
   "cell_type": "markdown",
   "metadata": {},
   "source": [
    "If you don't provide an argument or too many, you get an error."
   ]
  },
  {
   "cell_type": "code",
   "execution_count": null,
   "metadata": {
    "collapsed": true
   },
   "outputs": [],
   "source": []
  },
  {
   "cell_type": "markdown",
   "metadata": {},
   "source": [
    "Parameters (or arguments) in Python are all passed by reference.  This means that if you modify the parameters in the function, they are modified outside of the function.\n",
    "\n",
    "See the following example:\n",
    "\n",
    "```\n",
    "def change_list(my_list):\n",
    "   \"\"\"This changes a passed list into this function\"\"\"\n",
    "   my_list.append('four');\n",
    "   print('list inside the function: ', my_list)\n",
    "   return\n",
    "\n",
    "my_list = [1, 2, 3];\n",
    "print('list before the function: ', my_list)\n",
    "change_list(my_list);\n",
    "print('list after the function: ', my_list)\n",
    "```"
   ]
  },
  {
   "cell_type": "code",
   "execution_count": null,
   "metadata": {
    "collapsed": false
   },
   "outputs": [],
   "source": []
  },
  {
   "cell_type": "markdown",
   "metadata": {},
   "source": [
    "Variables have scope: `global` and `local`\n",
    "\n",
    "In a function, new variables that you create are not saved when the function returns - these are `local` variables.  Variables defined outside of the function can be accessed but not changed - these are `global` variables, _Note_ there is a way to do this with the `global` keyword.  Generally, the use of `global` variables is not encouraged, instead use parameters.\n",
    "\n",
    "```\n",
    "my_global_1 = 'bad idea'\n",
    "my_global_2 = 'another bad one'\n",
    "my_global_3 = 'better idea'\n",
    "\n",
    "def my_function():\n",
    "    print(my_global_1)\n",
    "    my_global_2 = 'broke your global, man!'\n",
    "    global my_global_3\n",
    "    my_global_3 = 'still a better idea'\n",
    "    return\n",
    "    \n",
    "my_function()\n",
    "print(my_global_2)\n",
    "print(my_global_3)\n",
    "```"
   ]
  },
  {
   "cell_type": "code",
   "execution_count": null,
   "metadata": {
    "collapsed": false
   },
   "outputs": [],
   "source": []
  },
  {
   "cell_type": "markdown",
   "metadata": {},
   "source": [
    "In general, you want to use parameters to provide data to a function and return a result with the `return`. E.g.\n",
    "\n",
    "```\n",
    "def sum(x, y):\n",
    "    my_sum = x + y\n",
    "    return my_sum\n",
    "```\n",
    "\n",
    "If you are going to return multiple objects, what data structure that we talked about can be used?  Give and example below."
   ]
  },
  {
   "cell_type": "code",
   "execution_count": null,
   "metadata": {
    "collapsed": true
   },
   "outputs": [],
   "source": []
  },
  {
   "cell_type": "markdown",
   "metadata": {},
   "source": [
    "### Parameters have four different types:\n",
    "\n",
    "| type | behavior |\n",
    "|------|----------|\n",
    "| required | positional, must be present or error, e.g. `my_func(first_name, last_name)` |\n",
    "| keyword | position independent, e.g. `my_func(first_name, last_name)` can be called `my_func(first_name='Dave', last_name='Beck')` or `my_func(last_name='Beck', first_name='Dave')` |\n",
    "| default | keyword params that default to a value if not provided |\n"
   ]
  },
  {
   "cell_type": "code",
   "execution_count": null,
   "metadata": {
    "collapsed": true
   },
   "outputs": [],
   "source": [
    "def print_name(first, last='the Clown'):\n",
    "    print('Your name is %s %s' % (first, last))\n",
    "    return"
   ]
  },
  {
   "cell_type": "markdown",
   "metadata": {},
   "source": [
    "Take a minute and play around with the above function.  Which are required?  Keyword?  Default?"
   ]
  },
  {
   "cell_type": "code",
   "execution_count": null,
   "metadata": {
    "collapsed": true
   },
   "outputs": [],
   "source": []
  },
  {
   "cell_type": "markdown",
   "metadata": {},
   "source": [
    "Functions can contain any code that you put anywhere else including:\n",
    "* if...elif...else\n",
    "* for...else\n",
    "* while\n",
    "* other function calls"
   ]
  },
  {
   "cell_type": "code",
   "execution_count": null,
   "metadata": {
    "collapsed": false
   },
   "outputs": [],
   "source": [
    "def print_name_age(first, last, age):\n",
    "    print_name(first, last)\n",
    "    print('Your age is %d' % (age))\n",
    "    if age > 35:\n",
    "        print('You are really old.')\n",
    "    return"
   ]
  },
  {
   "cell_type": "code",
   "execution_count": null,
   "metadata": {
    "collapsed": false
   },
   "outputs": [],
   "source": [
    "print_name_age(age=40, last='Beck', first='Dave')"
   ]
  },
  {
   "cell_type": "markdown",
   "metadata": {},
   "source": [
    "Once you have some code that is functionalized and not going to change, you can move it to a file that ends in `.py`, check it into version control, import it into your notebook and use it!\n",
    "\n",
    "Let's do this now for the above two functions.\n",
    "\n",
    "...\n",
    "\n",
    "\n",
    "    See you after the break!"
   ]
  },
  {
   "cell_type": "markdown",
   "metadata": {},
   "source": [
    "Import the function..."
   ]
  },
  {
   "cell_type": "code",
   "execution_count": null,
   "metadata": {
    "collapsed": false
   },
   "outputs": [],
   "source": []
  },
  {
   "cell_type": "markdown",
   "metadata": {},
   "source": [
    "Call them!"
   ]
  },
  {
   "cell_type": "code",
   "execution_count": null,
   "metadata": {
    "collapsed": false
   },
   "outputs": [],
   "source": []
  },
  {
   "cell_type": "markdown",
   "metadata": {},
   "source": [
    "<hr>\n",
    "## Hacky Hack Time with Functions!\n",
    "\n",
    "Notes from last class:\n",
    "* The `os` package has tools for checking if a file exists: ``os.path.exists``\n",
    "```\n",
    "import os\n",
    "filename = 'HCEPDB_moldata.zip'\n",
    "if os.path.exists(filename):\n",
    "    print(\"wahoo!\")\n",
    "```\n",
    "* Use the `requests` package to get the file given a url (got this from the requests docs)\n",
    "```\n",
    "import requests\n",
    "url = 'http://faculty.washington.edu/dacb/HCEPDB_moldata.zip'\n",
    "req = requests.get(url)\n",
    "assert req.status_code == 200 # if the download failed, this line will generate an error\n",
    "with open(filename, 'wb') as f:\n",
    "    f.write(req.content)\n",
    "```\n",
    "* Use the `zipfile` package to decompress the file while reading it into `pandas`\n",
    "```\n",
    "import pandas as pd\n",
    "import zipfile\n",
    "csv_filename = 'HCEPDB_moldata.csv'\n",
    "zf = zipfile.ZipFile(filename)\n",
    "data = pd.read_csv(zf.open(csv_filename))\n",
    "```\n",
    "\n",
    "Here was my solution\n",
    "```\n",
    "import os\n",
    "import requests\n",
    "import pandas as pd\n",
    "import zipfile\n",
    "\n",
    "filename = 'HCEPDB_moldata.zip'\n",
    "url = 'http://faculty.washington.edu/dacb/HCEPDB_moldata.zip'\n",
    "csv_filename = 'HCEPDB_moldata.csv'\n",
    "\n",
    "if os.path.exists(filename):\n",
    "    pass\n",
    "else:\n",
    "    req = requests.get(url)\n",
    "    assert req.status_code == 200 # if the download failed, this line will generate an error\n",
    "    with open(filename, 'wb') as f:\n",
    "        f.write(req.content)\n",
    "\n",
    "zf = zipfile.ZipFile(filename)\n",
    "data = pd.read_csv(zf.open(csv_filename))\n",
    "```\n",
    "\n",
    "## In class exercise\n",
    "### 5-10 minutes\n",
    "#### Objective: How would you functionalize the code for downloading, unzipping, and making a dataframe?\n",
    "#### Bonus!  Add the the code to a file `HCEPDB_utils.py` and import it!"
   ]
  },
  {
   "cell_type": "code",
   "execution_count": null,
   "metadata": {
    "collapsed": false
   },
   "outputs": [],
   "source": []
  },
  {
   "cell_type": "code",
   "execution_count": null,
   "metadata": {
    "collapsed": true
   },
   "outputs": [],
   "source": []
  },
  {
   "cell_type": "code",
   "execution_count": null,
   "metadata": {
    "collapsed": true
   },
   "outputs": [],
   "source": []
  },
  {
   "cell_type": "code",
   "execution_count": null,
   "metadata": {
    "collapsed": true
   },
   "outputs": [],
   "source": []
  },
  {
   "cell_type": "code",
   "execution_count": null,
   "metadata": {
    "collapsed": true
   },
   "outputs": [],
   "source": []
  },
  {
   "cell_type": "markdown",
   "metadata": {},
   "source": [
    "How many functions did you use?"
   ]
  },
  {
   "cell_type": "markdown",
   "metadata": {},
   "source": []
  },
  {
   "cell_type": "markdown",
   "metadata": {},
   "source": [
    "Why did you choose to use functions for these pieces?"
   ]
  },
  {
   "cell_type": "markdown",
   "metadata": {},
   "source": []
  },
  {
   "cell_type": "markdown",
   "metadata": {},
   "source": [
    "<HR>\n",
    "## From something to nothing\n",
    "\n",
    "### Task: Compute the pairwise Pearson correlation between rows in a dataframe.\n",
    "\n",
    "Let's say we have three molecules (A, B, C) with three measurements each (v1, v2, v3).  So for each molecule we have a vector of measurements:\n",
    "\n",
    "$$X=\\begin{bmatrix}\n",
    "         X_{v_{1}} \\\\\n",
    "         X_{v_{2}} \\\\\n",
    "         X_{v_{3}} \\\\\n",
    "        \\end{bmatrix} $$\n",
    "        \n",
    "Where X is a molecule and the components are the values for each of the measurements.  These make up the rows in our matrix.\n",
    "\n",
    "Often, we want to compare molecules to determine how similar or different they are.  One measure is the Pearson correlation.\n",
    "\n",
    "Pearson correlation: <img src=\"https://wikimedia.org/api/rest_v1/media/math/render/svg/01d103c10e6d4f477953a9b48c69d19a954d978a\"/>\n",
    "\n",
    "Expressed graphically, when you plot the paired measurements for two samples (in this case molecules) against each other you can see positively correlated, no correlation, and negatively correlated.  Eg.\n",
    "<img src=\"http://www.statisticshowto.com/wp-content/uploads/2012/10/pearson-2-small.png\"/>\n",
    "\n",
    "\n",
    "Simple input dataframe (_note_ when you are writing code it is always a good idea to have a simple test case where you can readily compute by hand or know the output):\n",
    "\n",
    "| index | v1 | v2 | v3 |\n",
    "|-------|----|----|----|\n",
    "| A     | -1 | 0  | 1  |\n",
    "| B     | 1  | 0  | -1 |\n",
    "| C     | .5 | 0  | .5 |\n",
    "\n",
    "* If the above is a dataframe what shape and size is the output?"
   ]
  },
  {
   "cell_type": "markdown",
   "metadata": {},
   "source": []
  },
  {
   "cell_type": "markdown",
   "metadata": {},
   "source": [
    "* Whare are some unique features of the output?"
   ]
  },
  {
   "cell_type": "markdown",
   "metadata": {},
   "source": []
  },
  {
   "cell_type": "markdown",
   "metadata": {},
   "source": [
    "For our test case, what will the output be?"
   ]
  },
  {
   "cell_type": "code",
   "execution_count": null,
   "metadata": {
    "collapsed": true
   },
   "outputs": [],
   "source": []
  },
  {
   "cell_type": "markdown",
   "metadata": {},
   "source": [
    "### Let's sketch the idea..."
   ]
  },
  {
   "cell_type": "markdown",
   "metadata": {},
   "source": []
  },
  {
   "cell_type": "code",
   "execution_count": null,
   "metadata": {
    "collapsed": true
   },
   "outputs": [],
   "source": []
  },
  {
   "cell_type": "code",
   "execution_count": null,
   "metadata": {
    "collapsed": true
   },
   "outputs": [],
   "source": []
  },
  {
   "cell_type": "markdown",
   "metadata": {},
   "source": [
    "## In class exercise\n",
    "### 20-30 minutes\n",
    "#### Objectives: \n",
    "1. Write code using functions to compute the pairwise Pearson correlation between rows in a pandas dataframe.  You will have to use ``for`` and possibly ``if``.\n",
    "2. Use a cell to test each function with an input that yields an expected output.  Think about the shape and values of the outputs.\n",
    "3. Put the code in a ``.py`` file in the directory with the Jupyter notebook, import and run!"
   ]
  },
  {
   "cell_type": "code",
   "execution_count": null,
   "metadata": {
    "collapsed": true
   },
   "outputs": [],
   "source": []
  },
  {
   "cell_type": "code",
   "execution_count": null,
   "metadata": {
    "collapsed": true
   },
   "outputs": [],
   "source": []
  },
  {
   "cell_type": "code",
   "execution_count": null,
   "metadata": {
    "collapsed": true
   },
   "outputs": [],
   "source": []
  },
  {
   "cell_type": "code",
   "execution_count": null,
   "metadata": {
    "collapsed": true
   },
   "outputs": [],
   "source": []
  },
  {
   "cell_type": "code",
   "execution_count": null,
   "metadata": {
    "collapsed": true
   },
   "outputs": [],
   "source": []
  },
  {
   "cell_type": "code",
   "execution_count": null,
   "metadata": {
    "collapsed": true
   },
   "outputs": [],
   "source": []
  }
 ],
 "metadata": {
  "anaconda-cloud": {},
  "kernelspec": {
   "display_name": "Python [default]",
   "language": "python",
   "name": "python3"
  },
  "language_info": {
   "codemirror_mode": {
    "name": "ipython",
    "version": 3
   },
   "file_extension": ".py",
   "mimetype": "text/x-python",
   "name": "python",
   "nbconvert_exporter": "python",
   "pygments_lexer": "ipython3",
   "version": "3.5.2"
  }
 },
 "nbformat": 4,
 "nbformat_minor": 0
}
